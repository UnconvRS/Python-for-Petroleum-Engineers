{
 "cells": [
  {
   "cell_type": "markdown",
   "metadata": {
    "colab_type": "text",
    "id": "u1YDPNtbdHDj"
   },
   "source": [
    "\n",
    "#  Probability\n",
    "\n",
    "## PETE 2061 Lab 5 Workbook \n",
    "\n",
    "## THIS IS DUE BY 11:59 PM ON SUNDAY (Sept 29, 2019)"
   ]
  },
  {
   "cell_type": "markdown",
   "metadata": {},
   "source": [
    "1. Paste the url (or link) to the pete2061 folder in your github account in the \"marked down\" cell below. <br>"
   ]
  },
  {
   "cell_type": "markdown",
   "metadata": {},
   "source": []
  },
  {
   "cell_type": "markdown",
   "metadata": {},
   "source": [
    "2. **Using the example in \"lab5_Probability.ipynb\", write a Python code to compute the probabililities of all possible total values that can be obtained from rolling a fair die three times**"
   ]
  },
  {
   "cell_type": "code",
   "execution_count": 1,
   "metadata": {},
   "outputs": [
    {
     "name": "stdout",
     "output_type": "stream",
     "text": [
      "Enter number of times to roll the die:2\n",
      "Total number of outcomes = 36\n"
     ]
    },
    {
     "data": {
      "text/html": [
       "<div>\n",
       "<style scoped>\n",
       "    .dataframe tbody tr th:only-of-type {\n",
       "        vertical-align: middle;\n",
       "    }\n",
       "\n",
       "    .dataframe tbody tr th {\n",
       "        vertical-align: top;\n",
       "    }\n",
       "\n",
       "    .dataframe thead th {\n",
       "        text-align: right;\n",
       "    }\n",
       "</style>\n",
       "<table border=\"1\" class=\"dataframe\">\n",
       "  <thead>\n",
       "    <tr style=\"text-align: right;\">\n",
       "      <th></th>\n",
       "      <th>sum</th>\n",
       "      <th>outcomes</th>\n",
       "      <th>probability</th>\n",
       "    </tr>\n",
       "  </thead>\n",
       "  <tbody>\n",
       "    <tr>\n",
       "      <th>0</th>\n",
       "      <td>2</td>\n",
       "      <td>1</td>\n",
       "      <td>0.027778</td>\n",
       "    </tr>\n",
       "    <tr>\n",
       "      <th>1</th>\n",
       "      <td>3</td>\n",
       "      <td>2</td>\n",
       "      <td>0.055556</td>\n",
       "    </tr>\n",
       "    <tr>\n",
       "      <th>2</th>\n",
       "      <td>4</td>\n",
       "      <td>3</td>\n",
       "      <td>0.083333</td>\n",
       "    </tr>\n",
       "    <tr>\n",
       "      <th>3</th>\n",
       "      <td>5</td>\n",
       "      <td>4</td>\n",
       "      <td>0.111111</td>\n",
       "    </tr>\n",
       "    <tr>\n",
       "      <th>4</th>\n",
       "      <td>6</td>\n",
       "      <td>5</td>\n",
       "      <td>0.138889</td>\n",
       "    </tr>\n",
       "    <tr>\n",
       "      <th>5</th>\n",
       "      <td>7</td>\n",
       "      <td>6</td>\n",
       "      <td>0.166667</td>\n",
       "    </tr>\n",
       "    <tr>\n",
       "      <th>6</th>\n",
       "      <td>8</td>\n",
       "      <td>5</td>\n",
       "      <td>0.138889</td>\n",
       "    </tr>\n",
       "    <tr>\n",
       "      <th>7</th>\n",
       "      <td>9</td>\n",
       "      <td>4</td>\n",
       "      <td>0.111111</td>\n",
       "    </tr>\n",
       "    <tr>\n",
       "      <th>8</th>\n",
       "      <td>10</td>\n",
       "      <td>3</td>\n",
       "      <td>0.083333</td>\n",
       "    </tr>\n",
       "    <tr>\n",
       "      <th>9</th>\n",
       "      <td>11</td>\n",
       "      <td>2</td>\n",
       "      <td>0.055556</td>\n",
       "    </tr>\n",
       "    <tr>\n",
       "      <th>10</th>\n",
       "      <td>12</td>\n",
       "      <td>1</td>\n",
       "      <td>0.027778</td>\n",
       "    </tr>\n",
       "  </tbody>\n",
       "</table>\n",
       "</div>"
      ],
      "text/plain": [
       "    sum  outcomes  probability\n",
       "0     2         1     0.027778\n",
       "1     3         2     0.055556\n",
       "2     4         3     0.083333\n",
       "3     5         4     0.111111\n",
       "4     6         5     0.138889\n",
       "5     7         6     0.166667\n",
       "6     8         5     0.138889\n",
       "7     9         4     0.111111\n",
       "8    10         3     0.083333\n",
       "9    11         2     0.055556\n",
       "10   12         1     0.027778"
      ]
     },
     "execution_count": 1,
     "metadata": {},
     "output_type": "execute_result"
    }
   ],
   "source": [
    "import numpy as np\n",
    "import itertools\n",
    "import pandas as pd\n",
    "x=int(input(\"Enter number of times to roll the die:\"))\n",
    "numList = list(range(1,7))\n",
    "resultList1 = list(itertools.product(numList,repeat=x))\n",
    "print(f\"Total number of outcomes = {len(resultList1)}\")\n",
    "resultArray = np.array(resultList1)\n",
    "sumOutcomes = np.sum(resultArray, axis=1)\n",
    "df1 = pd.DataFrame({\"outcomes\":resultList1,\"sumOutcomes\":sumOutcomes})\n",
    "by_sumOutcomes = df1.groupby(\"sumOutcomes\")\n",
    "outcomeDF = by_sumOutcomes.count()\n",
    "outcomes = outcomeDF.values[:,0]\n",
    "probability = outcomes / np.sum(outcomes)\n",
    "newDF = pd.DataFrame({\"sum\":df1[\"sumOutcomes\"].unique(), \"outcomes\":outcomes, \"probability\":probability})\n",
    "newDF"
   ]
  },
  {
   "cell_type": "markdown",
   "metadata": {},
   "source": [
    "3. **In class, we discussed the fundamental principle of counting. If there are n1 ways to perform the first operation, n2 ways to perform the second operation, n3 ways to perform the third operation, ..., and nk ways to perform the k-th operation, the total number of ways to perform the k operations is n1(n2)(n3)...(nk). Write a Python code that reads in n1,n2,n3,...,nk as comma-separated values using the input function. Compute the total number of ways to perform the the k operations the user of your program enters. For example, to read in 4 operations with 3,2,1, and 4 outcoumes. You will type \"3,2,1,4\" after the prompt asks you for the list of outcomes. **"
   ]
  },
  {
   "cell_type": "code",
   "execution_count": 2,
   "metadata": {},
   "outputs": [
    {
     "name": "stdout",
     "output_type": "stream",
     "text": [
      "Provide list of outcomes: 3,3,3\n"
     ]
    }
   ],
   "source": [
    "outcomeString = input(\"Provide list of outcomes: \")\n",
    "outcomeList = outcomeString.split(\",\")"
   ]
  },
  {
   "cell_type": "code",
   "execution_count": 3,
   "metadata": {},
   "outputs": [
    {
     "name": "stdout",
     "output_type": "stream",
     "text": [
      "['3', '3', '3']\n",
      "3\n",
      "27\n"
     ]
    }
   ],
   "source": [
    "print(outcomeList)\n",
    "k = len(outcomeList)\n",
    "print(k)\n",
    "curProd = 1\n",
    "for n_i in outcomeList:\n",
    "    curProd = int(n_i)*curProd\n",
    "print(curProd)"
   ]
  }
 ],
 "metadata": {
  "colab": {
   "collapsed_sections": [
    "sYQs3O-6dHFb",
    "8sIJ4A57dHFk",
    "_73RPOcBdHFn",
    "h9s2tfPcdHFo",
    "zt4YHVYPdHGR"
   ],
   "include_colab_link": true,
   "name": "Copy of intro-python-colab.ipynb",
   "provenance": [],
   "version": "0.3.2"
  },
  "kernelspec": {
   "display_name": "Python 3",
   "language": "python",
   "name": "python3"
  },
  "language_info": {
   "codemirror_mode": {
    "name": "ipython",
    "version": 3
   },
   "file_extension": ".py",
   "mimetype": "text/x-python",
   "name": "python",
   "nbconvert_exporter": "python",
   "pygments_lexer": "ipython3",
   "version": "3.8.5"
  }
 },
 "nbformat": 4,
 "nbformat_minor": 1
}
