{
 "cells": [
  {
   "cell_type": "markdown",
   "metadata": {
    "colab_type": "text",
    "id": "u1YDPNtbdHDj"
   },
   "source": [
    "\n",
    " #  Introduction to Python Programming\n",
    "\n",
    "## PETE 2061 Lab 1 (Instructor's Version)\n",
    "\n",
    "<a id='top'></a>"
   ]
  },
  {
   "cell_type": "markdown",
   "metadata": {
    "colab_type": "text",
    "id": "VB--CYOSdHDm"
   },
   "source": [
    "\n",
    "# Topics Covered\n",
    " * [Hello world!](#helloworld) \n",
    " * [Comments in Python](#comments)\n",
    " * [Variables](#variables)\n",
    " * [Operators](#operators)    \n",
    " * [Learn easily online](https://www.w3schools.com/python)</font>\n",
    "<br>"
   ]
  },
  {
   "cell_type": "markdown",
   "metadata": {},
   "source": [
    "<a id='helloworld'></a>\n",
    "## Your first python program\n",
    "As common in all programming languages the one line below prints out \"Hello World!\". "
   ]
  },
  {
   "cell_type": "code",
   "execution_count": 1,
   "metadata": {},
   "outputs": [
    {
     "name": "stdout",
     "output_type": "stream",
     "text": [
      "Hello, World!\n"
     ]
    }
   ],
   "source": [
    "print(\"Hello, World!\")"
   ]
  },
  {
   "cell_type": "markdown",
   "metadata": {},
   "source": [
    "## How to run python code from command prompt\n",
    "* This single line of code can be typed into a text editor like notepad and saved as helloworld.py \n",
    "* Then from the command prompt (in Windows) or terminal (on MacOS or Linux) type \"python helloworld.py\" to run the code\n",
    "<br>"
   ]
  },
  {
   "cell_type": "markdown",
   "metadata": {},
   "source": [
    "<a id='comments'></a>\n",
    "## Comments in Python \n",
    "* A comment is a sequence of characters or text that isn't executed. \n",
    "* The pound sign (#) indicates a comment in python. \n",
    "* Everything after a # sign in python is ignored by the python interpreted.\n",
    "* We use comments to allow us document our work within the code (called in-code documentation)\n",
    "* Comments allow us help other programmers to understand what is being done at different points in our code.\n",
    "* It also helps us remember what different snippets of our complex code does.\n",
    "* It is very easy and normal to forget how we implemented a complex algorithm after just a few days!\n",
    "* ALWAYS PUT IN LOTS USEFUL COMMENTS IN YOUR CODE TO HELP YOURSELF AND OTHER PRESENT AND FUTURE TEAM MATES UNDERSTAND YOUR WORK!\n"
   ]
  },
  {
   "cell_type": "code",
   "execution_count": null,
   "metadata": {},
   "outputs": [],
   "source": [
    "#This is a comment in python\n",
    "print('Hello, World!') #this line prints Hello, World!"
   ]
  },
  {
   "cell_type": "markdown",
   "metadata": {},
   "source": [
    "## Commenting multiple lines of code\n",
    "* The use of triple quotes before and after multiple lines of text acts like a multi-line comment. \n",
    "* This can be very useful when debugging codes. \n",
    "* They come in handy when we desire to switch off certain code segments and interactively observe the results"
   ]
  },
  {
   "cell_type": "code",
   "execution_count": 2,
   "metadata": {},
   "outputs": [
    {
     "data": {
      "text/plain": [
       "\"print('Hello, world!') #this line prints Hello world\\nprint('Hello, Tigers!') #this line prints Hello world\""
      ]
     },
     "execution_count": 2,
     "metadata": {},
     "output_type": "execute_result"
    }
   ],
   "source": [
    "\"\"\"print('Hello, world!') #this line prints Hello world\n",
    "print('Hello, Tigers!') #this line prints Hello world\"\"\""
   ]
  },
  {
   "cell_type": "markdown",
   "metadata": {
    "colab_type": "text",
    "id": "krWd44XodHDp"
   },
   "source": [
    "<a id='variables'></a>\n",
    "## Variables \n",
    "* A variable is a container that is used to store data values\n",
    "* Most programming languages require you to first \"declare\" a variable before \"assigning\" a value to it.\n",
    "* Python has no command for declaring a variable. The variable is created the moment you first assign a value to it.\n",
    "* The variable type is dynamically determined from the value that is assigned to it. \n",
    "* This is why we say Python is dynamically typed."
   ]
  },
  {
   "cell_type": "code",
   "execution_count": null,
   "metadata": {},
   "outputs": [],
   "source": [
    "x = 20\n",
    "y = 0.52\n",
    "mascot = \"Mike VII\"\n",
    "prevMascot = 'Mike VI'  #String variables can be assigned either by using single or double quotes:\n",
    "print(x)\n",
    "print(y)\n",
    "print(mascot)\n",
    "print(prevMascot)"
   ]
  },
  {
   "cell_type": "markdown",
   "metadata": {},
   "source": [
    " * The data types of variables can change after they have been set:"
   ]
  },
  {
   "cell_type": "code",
   "execution_count": null,
   "metadata": {},
   "outputs": [],
   "source": [
    "z = 10          # x is of type int\n",
    "z = \"Mike VII\"  # x is now of type str\n",
    "print(z)"
   ]
  },
  {
   "cell_type": "markdown",
   "metadata": {},
   "source": [
    "## Variable Names\n",
    "A variable can have a short name (like x and y) or a more descriptive name (mascotName, well_depth, oilViscosity, etc). \n",
    " Rules for Python variables:\n",
    "* A variable name must start with a letter or the underscore character\n",
    "* A variable name cannot start with a number\n",
    "* A variable name can only contain alpha-numeric characters and underscores (A-z, 0-9, and _ )\n",
    "* Variable names are case-sensitive (density, Density and DENSITY are three different variables)\n",
    "* Assign meaningful variable names\n",
    "* Some keywords are reserved; such as ‘print’, ‘assert’,  ‘while’, ‘lambda’, for, if, etc. \n",
    "* A variable is assigned a value using the ‘=’ operator. For example: x = 3 which is read as \"3 is assigned to variable x\"\n",
    "* Reference of [keywords](https://docs.python.org/2.5/ref/keywords.html)\n",
    "\n",
    "You can assign multiple variables in one line as follows:"
   ]
  },
  {
   "cell_type": "code",
   "execution_count": null,
   "metadata": {},
   "outputs": [],
   "source": [
    "Kx, Ky, Kz = 100.0, 100.0, 10.0\n",
    "print(Kx)\n",
    "print(Kz)\n",
    "\n",
    "#you can also assign the same value to multiple variables in one line:\n",
    "Kx = Ky = 90.0\n",
    "print(Kx)\n",
    "print(Ky)"
   ]
  },
  {
   "cell_type": "markdown",
   "metadata": {
    "colab_type": "text",
    "id": "R7DyZUcJdHDp"
   },
   "source": [
    "<a id='operators'></a>\n",
    "## Operators in Python\n",
    "* Operators are used to perform operations on variables and values.\n",
    "* Python classifies the operators into the following groups:\n",
    "    * Arithmetic operators (+, -, *, /, % for modulus or remainder, ** for eexponentiation, and // for floor division)\n",
    "    * Assignment operators (=, and appending = to all arithmetic operators above)\n",
    "    * Comparison operators (==, <, >, !=, >=, <=)\n",
    "    * Logical operators (and, not, or)\n",
    "    * Identity operators (is, is not)\n",
    "    * Membership operators (in, not in)\n",
    "    * Bitwise operators (&, |, ^, ~, <<, >>)"
   ]
  },
  {
   "cell_type": "code",
   "execution_count": null,
   "metadata": {},
   "outputs": [],
   "source": [
    "#... Arithmetic operators (+, -, *, /, % for modulus or remainder, ** for exponentiation, and // for floor division)\n",
    "#    Arithmetic operators are used with numeric values to perform common mathematical operations\n",
    "x = 11\n",
    "y = 5\n",
    "print(x+y)\n",
    "print(x-y)\n",
    "print(x*y)\n",
    "print(x/y)\n",
    "#the order of the variables used with the modulus operator is important\n",
    "print(x%y)  \n",
    "print(y%x)\n",
    "print(x**y)\n",
    "print(x//y) #the floor division // rounds the result down to the nearest whole number\n",
    "\n",
    "\n",
    "#... Assignement operators (=, +=, -=, *=, /=, %=, **=, //=)\n",
    "#    Assignment operators are used to assign values to variables  \n",
    "x = y + 6\n",
    "print(x)\n",
    "x += y  # this is equivalent to x = x + y\n",
    "x -= y  # this is equivalent to x = x + y\n",
    "# all other combinations of arithmetic operators and = follow in the same way\n",
    "\n",
    "\n",
    "#... Comparison operators (==, <, >, !=, >=, <=)\n",
    "#    Comparison operators are used to compare two values\n",
    "print(x==y)  # NOTE: Please don't join the clique of those who mistakenly use = instead of == for equality check\n",
    "print(x!=y)  # != means not equal\n",
    "print(x>=y)  # >= means greater than or equal\n",
    "\n",
    "#... Logical operators (and, not, or)\n",
    "#    Logical operators are used to combine conditional statements:\n",
    "x = 5\n",
    "print(x > 2 and x < 9)      # \"and\" returns True if both statements are true\n",
    "print(x > 2 or x < 3)       # \"or\" returns True if one or both of the statements is/are true\n",
    "print(not(x > 2 and x < 9)) # \"not\" reverses the result. It returns False if the result in parenthesis is true"
   ]
  },
  {
   "cell_type": "markdown",
   "metadata": {},
   "source": [
    "## Operator Precedence\n",
    "* Operator precedence in Python and most programming languages are similar to their counterparts in algebra. \n",
    "    * The Parenthesis has the highest precedence and is typically used to force a higher priority and to make the logic in a code clearer to understand. \n",
    "* In Python, addition and subtraction have the same precedence. \n",
    "    * They will get executed from left to right in a sequence of calculations with addition and subtraction operators. \n",
    "    * The same is true for multiplication and division.\n",
    "* It is common and good practice to use several parentheses to make scientific codes more readable, even if the natural ordering of the operators will evaluate to the same values without the parentheses.    "
   ]
  },
  {
   "cell_type": "markdown",
   "metadata": {},
   "source": [
    "## Formatted string literals (f-strings)\n",
    "* They were released in Python 3.6\n",
    "* They are called \"f-strings\" because you need to prefix a string with the letter \"f\" in order to get an f-string\n",
    "* The letter “f” also indicates that these strings are used for formatting\n",
    "* f-strings are the simplest and most practical way of formatting strings"
   ]
  },
  {
   "cell_type": "code",
   "execution_count": null,
   "metadata": {},
   "outputs": [],
   "source": [
    "print(f\"The product of x and y is: {x*y}, while the difference between x and y is: {x-y}\") \n",
    "print(f'The product of x and y is: {x*y}, while the difference between x and y is: {x-y}') "
   ]
  }
 ],
 "metadata": {
  "colab": {
   "collapsed_sections": [
    "sYQs3O-6dHFb",
    "8sIJ4A57dHFk",
    "_73RPOcBdHFn",
    "h9s2tfPcdHFo",
    "zt4YHVYPdHGR"
   ],
   "include_colab_link": true,
   "name": "Copy of intro-python-colab.ipynb",
   "provenance": [],
   "version": "0.3.2"
  },
  "kernelspec": {
   "display_name": "Python 3",
   "language": "python",
   "name": "python3"
  },
  "language_info": {
   "codemirror_mode": {
    "name": "ipython",
    "version": 3
   },
   "file_extension": ".py",
   "mimetype": "text/x-python",
   "name": "python",
   "nbconvert_exporter": "python",
   "pygments_lexer": "ipython3",
   "version": "3.8.5"
  }
 },
 "nbformat": 4,
 "nbformat_minor": 1
}
