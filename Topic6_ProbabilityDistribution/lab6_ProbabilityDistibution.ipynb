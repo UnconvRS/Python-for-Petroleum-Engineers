{
 "cells": [
  {
   "cell_type": "markdown",
   "metadata": {
    "colab_type": "text",
    "id": "u1YDPNtbdHDj"
   },
   "source": [
    "\n",
    " #  Probability Distribution\n",
    "\n",
    "## PETE 2061 Lab 6\n",
    "\n",
    "<a id='top'></a>"
   ]
  },
  {
   "cell_type": "markdown",
   "metadata": {
    "colab_type": "text",
    "id": "VB--CYOSdHDm"
   },
   "source": [
    "<a id='overview'></a>\n",
    "# Topics Covered\n",
    "<font color=blue>\n",
    " * [Pandas Utility Functions](#pandas) \n",
    " * [Box Plots](#boxplots)\n",
    " * [Generating normal Distribution](#normalDist)\n",
    " * [Lognormal Distribution](#lognormalDist)    \n",
    "</font>\n",
    "<br>"
   ]
  },
  {
   "cell_type": "markdown",
   "metadata": {},
   "source": [
    "<a id='pandas'></a>\n",
    "## Pandas Utility Functions\n",
    "Import standard packages"
   ]
  },
  {
   "cell_type": "code",
   "execution_count": 1,
   "metadata": {},
   "outputs": [],
   "source": [
    "import numpy as np\n",
    "import scipy.stats\n",
    "import pandas as pd\n",
    "\n",
    "import matplotlib.pyplot as plt"
   ]
  },
  {
   "cell_type": "code",
   "execution_count": 2,
   "metadata": {},
   "outputs": [
    {
     "name": "stdout",
     "output_type": "stream",
     "text": [
      "Np    1.453735e+06\n",
      "dtype: float64\n",
      "<class 'pandas.core.series.Series'>\n",
      "1453734.523400044\n"
     ]
    }
   ],
   "source": [
    "NpDF = pd.read_csv('Np_demo_data.csv')\n",
    "\n",
    "print(NpDF.std())\n",
    "print(type(NpDF.std()))\n",
    "print(float(NpDF.std())) #converting to float downcasts the pandas series into a float."
   ]
  },
  {
   "cell_type": "code",
   "execution_count": 10,
   "metadata": {},
   "outputs": [
    {
     "name": "stdout",
     "output_type": "stream",
     "text": [
      "<class 'pandas.core.frame.DataFrame'>\n",
      "RangeIndex: 20001 entries, 0 to 20000\n",
      "Data columns (total 1 columns):\n",
      "Np    20001 non-null float64\n",
      "dtypes: float64(1)\n",
      "memory usage: 156.3 KB\n",
      "std is 1453734.523400044 while variance is 2113344064525.1536\n"
     ]
    },
    {
     "data": {
      "text/html": [
       "<div>\n",
       "<style scoped>\n",
       "    .dataframe tbody tr th:only-of-type {\n",
       "        vertical-align: middle;\n",
       "    }\n",
       "\n",
       "    .dataframe tbody tr th {\n",
       "        vertical-align: top;\n",
       "    }\n",
       "\n",
       "    .dataframe thead th {\n",
       "        text-align: right;\n",
       "    }\n",
       "</style>\n",
       "<table border=\"1\" class=\"dataframe\">\n",
       "  <thead>\n",
       "    <tr style=\"text-align: right;\">\n",
       "      <th></th>\n",
       "      <th>Np</th>\n",
       "    </tr>\n",
       "  </thead>\n",
       "  <tbody>\n",
       "    <tr>\n",
       "      <th>0.1</th>\n",
       "      <td>7828865.00</td>\n",
       "    </tr>\n",
       "    <tr>\n",
       "      <th>0.5</th>\n",
       "      <td>9631836.02</td>\n",
       "    </tr>\n",
       "    <tr>\n",
       "      <th>0.9</th>\n",
       "      <td>11541589.26</td>\n",
       "    </tr>\n",
       "  </tbody>\n",
       "</table>\n",
       "</div>"
      ],
      "text/plain": [
       "              Np\n",
       "0.1   7828865.00\n",
       "0.5   9631836.02\n",
       "0.9  11541589.26"
      ]
     },
     "execution_count": 10,
     "metadata": {},
     "output_type": "execute_result"
    }
   ],
   "source": [
    "#Run each of these commands one after the other to see what each one does\n",
    "NpDF.head()\n",
    "NpDF.info()\n",
    "NpDF.max()\n",
    "NpDF.min()\n",
    "NpDF.mean()\n",
    "NpDF.median()\n",
    "NpDF.mode()\n",
    "NpDF.quantile([0.25,0.5,0.75])\n",
    "std1 = float(NpDF.std())\n",
    "print(f\"std is {std1} while variance is {float(NpDF.var())}\")\n",
    "NpDF.quantile([0.1,0.5,0.9])"
   ]
  },
  {
   "cell_type": "code",
   "execution_count": 73,
   "metadata": {},
   "outputs": [
    {
     "data": {
      "text/html": [
       "<div>\n",
       "<style scoped>\n",
       "    .dataframe tbody tr th:only-of-type {\n",
       "        vertical-align: middle;\n",
       "    }\n",
       "\n",
       "    .dataframe tbody tr th {\n",
       "        vertical-align: top;\n",
       "    }\n",
       "\n",
       "    .dataframe thead th {\n",
       "        text-align: right;\n",
       "    }\n",
       "</style>\n",
       "<table border=\"1\" class=\"dataframe\">\n",
       "  <thead>\n",
       "    <tr style=\"text-align: right;\">\n",
       "      <th></th>\n",
       "      <th>Np</th>\n",
       "    </tr>\n",
       "  </thead>\n",
       "  <tbody>\n",
       "    <tr>\n",
       "      <th>count</th>\n",
       "      <td>2.000100e+04</td>\n",
       "    </tr>\n",
       "    <tr>\n",
       "      <th>mean</th>\n",
       "      <td>9.661133e+06</td>\n",
       "    </tr>\n",
       "    <tr>\n",
       "      <th>std</th>\n",
       "      <td>1.453735e+06</td>\n",
       "    </tr>\n",
       "    <tr>\n",
       "      <th>min</th>\n",
       "      <td>4.513287e+06</td>\n",
       "    </tr>\n",
       "    <tr>\n",
       "      <th>25%</th>\n",
       "      <td>8.671339e+06</td>\n",
       "    </tr>\n",
       "    <tr>\n",
       "      <th>50%</th>\n",
       "      <td>9.631836e+06</td>\n",
       "    </tr>\n",
       "    <tr>\n",
       "      <th>75%</th>\n",
       "      <td>1.061819e+07</td>\n",
       "    </tr>\n",
       "    <tr>\n",
       "      <th>max</th>\n",
       "      <td>1.549779e+07</td>\n",
       "    </tr>\n",
       "  </tbody>\n",
       "</table>\n",
       "</div>"
      ],
      "text/plain": [
       "                 Np\n",
       "count  2.000100e+04\n",
       "mean   9.661133e+06\n",
       "std    1.453735e+06\n",
       "min    4.513287e+06\n",
       "25%    8.671339e+06\n",
       "50%    9.631836e+06\n",
       "75%    1.061819e+07\n",
       "max    1.549779e+07"
      ]
     },
     "execution_count": 73,
     "metadata": {},
     "output_type": "execute_result"
    }
   ],
   "source": [
    "NpDF.describe()"
   ]
  },
  {
   "cell_type": "markdown",
   "metadata": {},
   "source": [
    "** We use scipy to do inverse look-up of the percentile when given a realization of the random variable**"
   ]
  },
  {
   "cell_type": "code",
   "execution_count": 74,
   "metadata": {},
   "outputs": [
    {
     "name": "stderr",
     "output_type": "stream",
     "text": [
      "/anaconda3/lib/python3.6/site-packages/scipy/stats/stats.py:1719: FutureWarning: Using a non-tuple sequence for multidimensional indexing is deprecated; use `arr[tuple(seq)]` instead of `arr[seq]`. In the future this will be interpreted as an array index, `arr[np.array(seq)]`, which will result either in an error or a different result.\n",
      "  pct = (np.mean(a_len[idx]) / n) * 100.0\n"
     ]
    },
    {
     "data": {
      "text/plain": [
       "89.61551922403879"
      ]
     },
     "execution_count": 74,
     "metadata": {},
     "output_type": "execute_result"
    }
   ],
   "source": [
    "scipy.stats.percentileofscore(NpDF['Np'],1.15e7)"
   ]
  },
  {
   "cell_type": "markdown",
   "metadata": {},
   "source": [
    "<a id='boxplots'></a>\n",
    "## Box plot \n",
    "* A boxplot is a graphic that presents the median, the first and third quartiles, and any outliers that are present in a sample.\n",
    "* The interquartile range (IQR) is the difference between the third quartile and the first quartile.\n",
    "* Any point that is more than 1.5 IQR above the third quartile, or more than 1.5 IQR below the first quartile is considered an outlier. This varies from text to text.\n",
    "* The plot consists of a box whose bottom side is the first quartile and whose top side is the thrid quartile.\n",
    "* A horizontal line is drawn at the median.\n",
    "* The outliers are plotted individually and are indicated by crosses in the figure.\n",
    "* Extending from the top and bottom of the box are vertical lines called \"whiskers\".\n",
    "* The whiskers end at the most extreme data point that is not considered an outlier."
   ]
  },
  {
   "cell_type": "code",
   "execution_count": 75,
   "metadata": {},
   "outputs": [
    {
     "data": {
      "text/plain": [
       "<matplotlib.axes._subplots.AxesSubplot at 0x123a55208>"
      ]
     },
     "execution_count": 75,
     "metadata": {},
     "output_type": "execute_result"
    },
    {
     "data": {
      "image/png": "[encoded data removed]",
      "text/plain": [
       "<Figure size 432x288 with 1 Axes>"
      ]
     },
     "metadata": {},
     "output_type": "display_data"
    }
   ],
   "source": [
    "NpDF.plot(kind='box')"
   ]
  },
  {
   "cell_type": "code",
   "execution_count": 3,
   "metadata": {},
   "outputs": [
    {
     "data": {
      "text/plain": [
       "<matplotlib.axes._subplots.AxesSubplot at 0x1208d61d0>"
      ]
     },
     "execution_count": 3,
     "metadata": {},
     "output_type": "execute_result"
    },
    {
     "data": {
      "image/png": "[encoded data removed]",
      "text/plain": [
       "<Figure size 432x288 with 1 Axes>"
      ]
     },
     "metadata": {},
     "output_type": "display_data"
    }
   ],
   "source": [
    "#Here we show that we can have multiple box plots in a Figure\n",
    "NpDF['Np2'] = NpDF['Np']+1e6*np.random.rand(len(NpDF.index))\n",
    "NpDF.head()\n",
    "NpDF.plot(kind='box')"
   ]
  },
  {
   "cell_type": "markdown",
   "metadata": {},
   "source": [
    "**Using the plot function with argument kind='hist' plots a histogram**"
   ]
  },
  {
   "cell_type": "code",
   "execution_count": 77,
   "metadata": {},
   "outputs": [
    {
     "data": {
      "text/plain": [
       "<matplotlib.axes._subplots.AxesSubplot at 0x1240f75f8>"
      ]
     },
     "execution_count": 77,
     "metadata": {},
     "output_type": "execute_result"
    },
    {
     "data": {
      "image/png": "[encoded data removed]",
      "text/plain": [
       "<Figure size 432x288 with 1 Axes>"
      ]
     },
     "metadata": {},
     "output_type": "display_data"
    }
   ],
   "source": [
    "NpDF['Np'].plot(kind='hist',histtype='step',bins=30)  #NpDF['Np'].plot(kind='hist',bins=30)"
   ]
  },
  {
   "cell_type": "code",
   "execution_count": 5,
   "metadata": {},
   "outputs": [
    {
     "data": {
      "image/png": "[encoded data removed]",
      "text/plain": [
       "<Figure size 432x288 with 1 Axes>"
      ]
     },
     "metadata": {},
     "output_type": "display_data"
    }
   ],
   "source": [
    "NpDF['Np'].plot(kind='hist', histtype='step', bins=30, density=True) #density=true normalizes the frequency so that it sums to 1\n",
    "NpDF['Np'].plot.density(bw_method=0.1)   #Change the bw_method and see what happens\n",
    "plt.axvline(NpDF['Np'].quantile(0.10), c='C1',linestyle='--')\n",
    "plt.axvline(NpDF['Np'].quantile(0.50), c='C1')\n",
    "plt.axvline(NpDF['Np'].quantile(0.90), c='C1',linestyle=':')\n",
    "plt.axis(xmin=NpDF['Np'].min(),xmax=NpDF['Np'].max())\n",
    "plt.savefig('outputfile.png')"
   ]
  },
  {
   "cell_type": "code",
   "execution_count": 79,
   "metadata": {},
   "outputs": [
    {
     "data": {
      "text/plain": [
       "<matplotlib.lines.Line2D at 0x1179a72b0>"
      ]
     },
     "execution_count": 79,
     "metadata": {},
     "output_type": "execute_result"
    },
    {
     "data": {
      "image/png": "[encoded data removed]",
      "text/plain": [
       "<Figure size 432x288 with 1 Axes>"
      ]
     },
     "metadata": {},
     "output_type": "display_data"
    }
   ],
   "source": [
    "NpDF['Np'].plot(kind='hist', histtype='step',  bins=100, density=True, cumulative=True)\n",
    "plt.axvline(NpDF['Np'].quantile(0.10), c='C1',linestyle='--')\n",
    "plt.axvline(NpDF['Np'].quantile(0.50), c='C1')\n",
    "plt.axvline(NpDF['Np'].quantile(0.90), c='C1',linestyle=':')\n",
    "plt.axhline(0.10, c='C1',linestyle='--')\n",
    "plt.axhline(0.50, c='C1')\n",
    "plt.axhline(0.90, c='C1',linestyle=':')"
   ]
  },
  {
   "cell_type": "markdown",
   "metadata": {},
   "source": [
    "* This CDF indicates that the probability that the cumulative oil production is less than or equal to 1.15e7 bbls is 90%\n",
    "* It indicates that the probability that the cumulative oil production is less than or equal to 9.63e6 bbls is 50%\n",
    "* It indicates that the probability that the cumulative oil production is less than or equal to 7.83e6 bbls is 10%\n",
    "* These 3 statements can also be reworded as follows:\n",
    "    * The probability that the cumulative oil production is at least 1.15e7 bbls is 10% (1-90%). Note that at least means greater than or equal to. This is referred to as the $P_{10}$ estimate in reserves management.\n",
    "    * The probability that the cumulative oil production is at least 9.63e6 bbls is 50% (1-50%). This is referred to as the $P_{50}$ estimate in reserves management.\n",
    "    * The probability that the cumulative oil production is at least 7.83e6 bbls is 90% (1-10%). This is referred to as the $P_{90}$ estimate in reserves management."
   ]
  },
  {
   "cell_type": "code",
   "execution_count": 80,
   "metadata": {},
   "outputs": [
    {
     "data": {
      "text/html": [
       "<div>\n",
       "<style scoped>\n",
       "    .dataframe tbody tr th:only-of-type {\n",
       "        vertical-align: middle;\n",
       "    }\n",
       "\n",
       "    .dataframe tbody tr th {\n",
       "        vertical-align: top;\n",
       "    }\n",
       "\n",
       "    .dataframe thead th {\n",
       "        text-align: right;\n",
       "    }\n",
       "</style>\n",
       "<table border=\"1\" class=\"dataframe\">\n",
       "  <thead>\n",
       "    <tr style=\"text-align: right;\">\n",
       "      <th></th>\n",
       "      <th>Np</th>\n",
       "      <th>Np2</th>\n",
       "    </tr>\n",
       "  </thead>\n",
       "  <tbody>\n",
       "    <tr>\n",
       "      <th>0.1</th>\n",
       "      <td>7828865.00</td>\n",
       "      <td>8.298155e+06</td>\n",
       "    </tr>\n",
       "    <tr>\n",
       "      <th>0.5</th>\n",
       "      <td>9631836.02</td>\n",
       "      <td>1.013787e+07</td>\n",
       "    </tr>\n",
       "    <tr>\n",
       "      <th>0.9</th>\n",
       "      <td>11541589.26</td>\n",
       "      <td>1.206776e+07</td>\n",
       "    </tr>\n",
       "  </tbody>\n",
       "</table>\n",
       "</div>"
      ],
      "text/plain": [
       "              Np           Np2\n",
       "0.1   7828865.00  8.298155e+06\n",
       "0.5   9631836.02  1.013787e+07\n",
       "0.9  11541589.26  1.206776e+07"
      ]
     },
     "execution_count": 80,
     "metadata": {},
     "output_type": "execute_result"
    }
   ],
   "source": [
    "NpDF.quantile([0.1,0.5,0.9])"
   ]
  },
  {
   "cell_type": "markdown",
   "metadata": {},
   "source": [
    "<a id='normalDist'></a>\n",
    "## Generation of random numbers that are normally-distributed\n",
    "* You need to specify the mean and standard deviation for a normal distribution\n",
    "* The mean determines where this symmetrical distribution is centered, while the standard deviation determines the spread\n",
    "* The numpy.random.normal(myMean, myStd, nSamples) generates a normal distribution, with a mean of \"myMean\", a standard deviation of \"myStd\", and a total number of samples that is equal to \"nSamples\".\n",
    "* The numpy.random.randn(nSamples) generates nSamples from a standard normal distribution, which is a normal distribution with a mean of zero (0) and a standard deviation of unity (1)."
   ]
  },
  {
   "cell_type": "code",
   "execution_count": 10,
   "metadata": {},
   "outputs": [
    {
     "name": "stdout",
     "output_type": "stream",
     "text": [
      "mean = -0.0009174374120017355; standard deviation = 0.9922304292730374\n",
      "min = -3.601660670525987; max = 4.1286065165322325\n"
     ]
    }
   ],
   "source": [
    "#standard normal distribution example\n",
    "nSamples = 10000\n",
    "stdNormDistSample = np.random.randn(nSamples)  #returns nSamples from a standard normal distribution.\n",
    "print(f\"mean = {np.mean(stdNormDistSample)}; standard deviation = {np.std(stdNormDistSample)}\")\n",
    "print(f\"min = {np.min(stdNormDistSample)}; max = {np.max(stdNormDistSample)}\")"
   ]
  },
  {
   "cell_type": "code",
   "execution_count": 14,
   "metadata": {},
   "outputs": [
    {
     "data": {
      "text/plain": [
       "array([0.23308174, 0.32531722, 0.29904256, 0.23788669, 0.29876724,\n",
       "       0.2947566 , 0.23729121, 0.25549641, 0.31684485, 0.29989587])"
      ]
     },
     "execution_count": 14,
     "metadata": {},
     "output_type": "execute_result"
    }
   ],
   "source": [
    "#normal distribution example\n",
    "nSamples = 10\n",
    "std_poro = 0.04\n",
    "mean_poro = 0.28\n",
    "poro = np.random.normal(mean_poro, std_poro, nSamples) \n",
    "poro"
   ]
  },
  {
   "cell_type": "markdown",
   "metadata": {},
   "source": [
    "<a id='lognormalDist'></a>\n",
    "## Lognormal distribution"
   ]
  },
  {
   "cell_type": "code",
   "execution_count": 16,
   "metadata": {},
   "outputs": [
    {
     "data": {
      "text/html": [
       "<div>\n",
       "<style scoped>\n",
       "    .dataframe tbody tr th:only-of-type {\n",
       "        vertical-align: middle;\n",
       "    }\n",
       "\n",
       "    .dataframe tbody tr th {\n",
       "        vertical-align: top;\n",
       "    }\n",
       "\n",
       "    .dataframe thead th {\n",
       "        text-align: right;\n",
       "    }\n",
       "</style>\n",
       "<table border=\"1\" class=\"dataframe\">\n",
       "  <thead>\n",
       "    <tr style=\"text-align: right;\">\n",
       "      <th></th>\n",
       "      <th>K</th>\n",
       "    </tr>\n",
       "  </thead>\n",
       "  <tbody>\n",
       "    <tr>\n",
       "      <th>0</th>\n",
       "      <td>1.090738</td>\n",
       "    </tr>\n",
       "    <tr>\n",
       "      <th>1</th>\n",
       "      <td>3.419778</td>\n",
       "    </tr>\n",
       "    <tr>\n",
       "      <th>2</th>\n",
       "      <td>2.703546</td>\n",
       "    </tr>\n",
       "    <tr>\n",
       "      <th>3</th>\n",
       "      <td>2.163664</td>\n",
       "    </tr>\n",
       "    <tr>\n",
       "      <th>4</th>\n",
       "      <td>4.381828</td>\n",
       "    </tr>\n",
       "  </tbody>\n",
       "</table>\n",
       "</div>"
      ],
      "text/plain": [
       "          K\n",
       "0  1.090738\n",
       "1  3.419778\n",
       "2  2.703546\n",
       "3  2.163664\n",
       "4  4.381828"
      ]
     },
     "execution_count": 16,
     "metadata": {},
     "output_type": "execute_result"
    }
   ],
   "source": [
    "meanOfLogK = 1.2   #K is permeability, which is typically lognormally-distributed\n",
    "stdOfLogK = 0.5\n",
    "numSample = 10000\n",
    "# First two arguments are the mean and standard deviation of the log of the random variable\n",
    "K_sample = np.random.lognormal(meanOfLogK , stdOfLogK , numSample)\n",
    "#K_sample\n",
    "permDF = pd.DataFrame({'K':K_sample})\n",
    "permDF.head()"
   ]
  },
  {
   "cell_type": "code",
   "execution_count": 17,
   "metadata": {},
   "outputs": [
    {
     "data": {
      "text/plain": [
       "<matplotlib.axes._subplots.AxesSubplot at 0x12ba549b0>"
      ]
     },
     "execution_count": 17,
     "metadata": {},
     "output_type": "execute_result"
    },
    {
     "data": {
      "image/png": "[encoded data removed]",
      "text/plain": [
       "<Figure size 432x288 with 1 Axes>"
      ]
     },
     "metadata": {},
     "output_type": "display_data"
    }
   ],
   "source": [
    "permDF['K'].plot(kind='hist', histtype='step', bins=100, density=True) "
   ]
  },
  {
   "cell_type": "code",
   "execution_count": 18,
   "metadata": {},
   "outputs": [
    {
     "data": {
      "text/plain": [
       "<matplotlib.axes._subplots.AxesSubplot at 0x12bab52b0>"
      ]
     },
     "execution_count": 18,
     "metadata": {},
     "output_type": "execute_result"
    },
    {
     "data": {
      "image/png": "[encoded data removed]",
      "text/plain": [
       "<Figure size 432x288 with 1 Axes>"
      ]
     },
     "metadata": {},
     "output_type": "display_data"
    }
   ],
   "source": [
    "permDF['K'].plot(kind='hist', histtype='step', bins=100, density=True, cumulative=True) "
   ]
  },
  {
   "cell_type": "markdown",
   "metadata": {},
   "source": [
    "<a id='scipyDist'></a>\n",
    "## Probability Distributions in Scipy.stats"
   ]
  },
  {
   "cell_type": "code",
   "execution_count": 19,
   "metadata": {},
   "outputs": [
    {
     "data": {
      "image/png": "[encoded data removed]",
      "text/plain": [
       "<Figure size 432x288 with 1 Axes>"
      ]
     },
     "metadata": {},
     "output_type": "display_data"
    }
   ],
   "source": [
    "import scipy.stats as ss\n",
    "X = np.linspace(-5, 5, 5000)   #x is your random variable. What does this line do?\n",
    "mu,sigma = 0,1    #what kind or normal distribution has a mean of 0 and a standard deviation of 1?\n",
    "\n",
    "y_cdf = ss.norm.cdf(X, mu, sigma) # the normal cdf\n",
    "y_pdf = ss.norm.pdf(X, mu, sigma) # the normal pdf \n",
    "# the pdf function returns the normalized frequencies corresponding to X using the equation in the lecture slides\n",
    "# the cdf function integrates the pdf function numerically\n",
    "\n",
    "plt.plot(X, y_pdf, label='pdf') \n",
    "plt.plot(X, y_cdf, label='cdf')\n",
    "plt.legend();"
   ]
  },
  {
   "cell_type": "markdown",
   "metadata": {},
   "source": [
    "**Effect of changing mean but keeping standard deviation constant**"
   ]
  },
  {
   "cell_type": "code",
   "execution_count": 24,
   "metadata": {
    "scrolled": true
   },
   "outputs": [
    {
     "data": {
      "image/png": "[encoded data removed]",
      "text/plain": [
       "<Figure size 432x288 with 1 Axes>"
      ]
     },
     "metadata": {},
     "output_type": "display_data"
    }
   ],
   "source": [
    "X = np.linspace(-4, 4, 5000) \n",
    "y_pdf = ss.norm.pdf(X,2,1) \n",
    "plt.plot(X, y_pdf, label='pdf1')\n",
    "\n",
    "X = np.linspace(-2, 6, 5000) \n",
    "y_pdf = ss.norm.pdf(X)  #implicitly assumes mean=0, std=1\n",
    "plt.plot(X, y_pdf, label='pdf2')\n",
    "\n",
    "X = np.linspace(0, 8, 5000)  #make sure the random variable X is modified to display all data\n",
    "y_pdf = ss.norm.pdf(X,4,1)\n",
    "plt.plot(X, y_pdf, label='pdf3') \n",
    "\n",
    "plt.legend();"
   ]
  },
  {
   "cell_type": "markdown",
   "metadata": {},
   "source": [
    "**Effect of changing standard deviation but keeping mean constant**"
   ]
  },
  {
   "cell_type": "code",
   "execution_count": 29,
   "metadata": {},
   "outputs": [
    {
     "data": {
      "image/png": "[encoded data removed]",
      "text/plain": [
       "<Figure size 432x288 with 1 Axes>"
      ]
     },
     "metadata": {},
     "output_type": "display_data"
    }
   ],
   "source": [
    "X = np.linspace(-8, 8, 5000) \n",
    "y_pdf = ss.norm.pdf(X,0,1) \n",
    "plt.plot(X, y_pdf, label='pdf1')\n",
    "\n",
    "y_pdf = ss.norm(0,2).pdf(X)      # another way of using the pdf and cdf functions\n",
    "plt.plot(X, y_pdf, label='pdf2')\n",
    "\n",
    "y_pdf = ss.norm(0,3).pdf(X) \n",
    "plt.plot(X, y_pdf, label='pdf3') \n",
    "\n",
    "plt.legend();"
   ]
  },
  {
   "cell_type": "code",
   "execution_count": 43,
   "metadata": {},
   "outputs": [
    {
     "data": {
      "text/plain": [
       "0.6914624612740131"
      ]
     },
     "execution_count": 43,
     "metadata": {},
     "output_type": "execute_result"
    }
   ],
   "source": [
    "ss.norm.cdf(0.5) #or ss.norm(0,1).cdf(0.5)  #Argument here is just one realization of the random variable X. \n",
    "#It returns the percentile corresponding to a random variable value of 0.5 in the standard normal distribution"
   ]
  },
  {
   "cell_type": "code",
   "execution_count": 42,
   "metadata": {},
   "outputs": [
    {
     "data": {
      "text/plain": [
       "0.5000000000000001"
      ]
     },
     "execution_count": 42,
     "metadata": {},
     "output_type": "execute_result"
    }
   ],
   "source": [
    "#ppf() is the percent point function. It takes in the percentile as an argument and returns the corresponding\n",
    "# random variable, X. Therefore, it is an inverse of the cdf \n",
    "ss.norm.ppf(0.6914624612740131)   # or ss.norm(0,1).ppf(0.6914624612740131)"
   ]
  },
  {
   "cell_type": "code",
   "execution_count": 38,
   "metadata": {},
   "outputs": [
    {
     "name": "stdout",
     "output_type": "stream",
     "text": [
      "The percentile corresponding to a value of 0.5 in the standard normal distribution is 0.6914624612740131\n",
      "The percentile corresponding to a value of 0 in the standard normal distribution is 0.5\n"
     ]
    },
    {
     "data": {
      "image/png": "[encoded data removed]",
      "text/plain": [
       "<Figure size 432x288 with 1 Axes>"
      ]
     },
     "metadata": {},
     "output_type": "display_data"
    }
   ],
   "source": [
    "X = np.linspace(-5, 5, 5000) \n",
    "y_pdf = ss.norm.pdf(X) \n",
    "y_cdf = ss.norm.cdf(X)\n",
    "plt.plot(X, y_pdf, label='pdf1')\n",
    "plt.plot(X, y_cdf, label='cdf1')"
   ]
  },
  {
   "cell_type": "code",
   "execution_count": 44,
   "metadata": {},
   "outputs": [
    {
     "name": "stdout",
     "output_type": "stream",
     "text": [
      "The percentile corresponding to a value of 0.5 in the standard normal distribution is 0.6914624612740131\n",
      "The percentile corresponding to a value of 0 in the standard normal distribution is 0.5\n",
      "The value at a percentile of 50% in a standard normal distribution is 0.0\n",
      "The value at a percentile of 90% in a standard normal distribution is 1.2815515655446004\n"
     ]
    }
   ],
   "source": [
    "print(f\"The percentile corresponding to a value of 0.5 in the standard normal distribution is {ss.norm.cdf(0.5)}\")\n",
    "print(f\"The percentile corresponding to a value of 0 in the standard normal distribution is {ss.norm.cdf(0)}\")\n",
    "\n",
    "print(f\"The value at a percentile of 50% in a standard normal distribution is {ss.norm.ppf(0.5)}\")\n",
    "print(f\"The value at a percentile of 90% in a standard normal distribution is {ss.norm.ppf(0.9)}\")"
   ]
  },
  {
   "cell_type": "markdown",
   "metadata": {},
   "source": [
    "**Generating Random Numbers from Different Distributions (using scipy) and Visualizing them (using seaborn)**"
   ]
  },
  {
   "cell_type": "code",
   "execution_count": 45,
   "metadata": {},
   "outputs": [
    {
     "name": "stderr",
     "output_type": "stream",
     "text": [
      "/anaconda3/lib/python3.6/site-packages/matplotlib/axes/_axes.py:6462: UserWarning: The 'normed' kwarg is deprecated, and has been replaced by the 'density' kwarg.\n",
      "  warnings.warn(\"The 'normed' kwarg is deprecated, and has been \"\n",
      "/anaconda3/lib/python3.6/site-packages/scipy/stats/stats.py:1633: FutureWarning: Using a non-tuple sequence for multidimensional indexing is deprecated; use `arr[tuple(seq)]` instead of `arr[seq]`. In the future this will be interpreted as an array index, `arr[np.array(seq)]`, which will result either in an error or a different result.\n",
      "  return np.add.reduce(sorted[indexer] * weights, axis=axis) / sumval\n"
     ]
    },
    {
     "data": {
      "text/plain": [
       "[Text(0,0.5,'Frequency'), Text(0.5,0,'Uniform Distribution ')]"
      ]
     },
     "execution_count": 45,
     "metadata": {},
     "output_type": "execute_result"
    },
    {
     "data": {
      "image/png": "[encoded data removed]",
      "text/plain": [
       "<Figure size 432x288 with 1 Axes>"
      ]
     },
     "metadata": {},
     "output_type": "display_data"
    }
   ],
   "source": [
    "# import uniform distribution\n",
    "#from scipy.stats import uniform\n",
    "import seaborn as sns\n",
    "# random numbers from uniform distribution\n",
    "n = 10000\n",
    "start = 10\n",
    "width = 20\n",
    "data_uniform = ss.uniform.rvs(size=n, loc = start, scale=width)  #loc is smallest random number, and scale is range.\n",
    "\n",
    "ax = sns.distplot(data_uniform,\n",
    "                  bins=100,\n",
    "                  kde=True,\n",
    "                  color='skyblue',\n",
    "                  hist_kws={\"linewidth\": 15,'alpha':1})\n",
    "ax.set(xlabel='Uniform Distribution ', ylabel='Frequency')"
   ]
  },
  {
   "cell_type": "code",
   "execution_count": 157,
   "metadata": {},
   "outputs": [
    {
     "name": "stderr",
     "output_type": "stream",
     "text": [
      "/anaconda3/lib/python3.6/site-packages/matplotlib/axes/_axes.py:6462: UserWarning: The 'normed' kwarg is deprecated, and has been replaced by the 'density' kwarg.\n",
      "  warnings.warn(\"The 'normed' kwarg is deprecated, and has been \"\n",
      "/anaconda3/lib/python3.6/site-packages/scipy/stats/stats.py:1633: FutureWarning: Using a non-tuple sequence for multidimensional indexing is deprecated; use `arr[tuple(seq)]` instead of `arr[seq]`. In the future this will be interpreted as an array index, `arr[np.array(seq)]`, which will result either in an error or a different result.\n",
      "  return np.add.reduce(sorted[indexer] * weights, axis=axis) / sumval\n"
     ]
    },
    {
     "data": {
      "text/plain": [
       "[Text(0,0.5,'Frequency'), Text(0.5,0,'Normal Distribution')]"
      ]
     },
     "execution_count": 157,
     "metadata": {},
     "output_type": "execute_result"
    },
    {
     "data": {
      "image/png": "[encoded data removed]",
      "text/plain": [
       "<Figure size 432x288 with 1 Axes>"
      ]
     },
     "metadata": {},
     "output_type": "display_data"
    }
   ],
   "source": [
    "# generate random numbers from N(0,1)\n",
    "data_normal = ss.norm.rvs(size=10000,loc=0,scale=1)  # loc is mean, and scale is std\n",
    "ax = sns.distplot(data_normal,\n",
    "                  bins=100,\n",
    "                  kde=True,\n",
    "                  color='skyblue',\n",
    "                  hist_kws={\"linewidth\": 15,'alpha':1})\n",
    "ax.set(xlabel='Normal Distribution', ylabel='Frequency')\n"
   ]
  },
  {
   "cell_type": "markdown",
   "metadata": {},
   "source": [
    "**Feel free to explore several other distributions at https://www.datacamp.com/community/tutorials/probability-distributions-python and https://docs.scipy.org/doc/scipy/reference/stats.html**"
   ]
  }
 ],
 "metadata": {
  "colab": {
   "collapsed_sections": [
    "sYQs3O-6dHFb",
    "8sIJ4A57dHFk",
    "_73RPOcBdHFn",
    "h9s2tfPcdHFo",
    "zt4YHVYPdHGR"
   ],
   "include_colab_link": true,
   "name": "Copy of intro-python-colab.ipynb",
   "provenance": [],
   "version": "0.3.2"
  },
  "kernelspec": {
   "display_name": "Python 3",
   "language": "python",
   "name": "python3"
  },
  "language_info": {
   "codemirror_mode": {
    "name": "ipython",
    "version": 3
   },
   "file_extension": ".py",
   "mimetype": "text/x-python",
   "name": "python",
   "nbconvert_exporter": "python",
   "pygments_lexer": "ipython3",
   "version": "3.6.8"
  }
 },
 "nbformat": 4,
 "nbformat_minor": 1
}
