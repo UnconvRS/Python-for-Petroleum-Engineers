{
 "cells": [
  {
   "cell_type": "markdown",
   "metadata": {
    "colab_type": "text",
    "id": "u1YDPNtbdHDj"
   },
   "source": [
    "# Control Structures and Data Frames\n",
    "\n",
    "## PETE 2061 Lab 4 Workbook \n",
    "\n",
    "<a id='top'></a>"
   ]
  },
  {
   "cell_type": "markdown",
   "metadata": {},
   "source": [
    "1. Paste the url (or link) to the pete2061 folder in your github account in the \"marked down\" cell below. <br>\n",
    "**2 points will be deducted if this is not attempted**"
   ]
  },
  {
   "cell_type": "markdown",
   "metadata": {},
   "source": []
  },
  {
   "cell_type": "markdown",
   "metadata": {},
   "source": [
    "2. The following table lists the sound level in decibels for several common noises."
   ]
  },
  {
   "cell_type": "markdown",
   "metadata": {},
   "source": [
    "| Noise         | Decibel level (dB) |\n",
    "| ------------- | ------------------ |\n",
    "| Jackhammer    |         131        |\n",
    "| Gas lawnmower |         107        |\n",
    "| Alarm clock   |          69        |\n",
    "| Quiet room    |          41        |"
   ]
  },
  {
   "cell_type": "markdown",
   "metadata": {},
   "source": [
    "Write a program that reads a sound level in decibels from the user. If the user enters a decibel level that matches one of the noises in the table then your program should display a message containing only that noise. If the user enters a number of decibels between the noises listed then your program should display a message indicating which noises the level is between. Ensure that your program also generates reasonable output for a value smaller than the quietest noise in the table, and for a value larger than the loudest noise in the table. <br><br>\n",
    "**Hints:**<br>\n",
    "    a. Remember to convert any numbers you read in with the \"input()\" function to an integer before using it in your \"if\" statements. Eg. myInt = int(input(\"Enter any Integer\"))<br>\n",
    "    b. You can test if the number stored in a variable is between two numbers by using the \"and\" command, as discussed before. Eg. (myInt > 2 and myInt < 6) will return true if myInt is both greater than 2 and less than 6.<br>\n",
    "    c.  You will need many elif statetements in the if statement for this problem. <br><br>\n",
    "  \n",
    "**1 point will be deductded for each of the 9 possible scenarios that is missing. Half point will be deducted for each typo in these 9 possible scenarios <br>**\n",
    "**2 points will be deducted if sound level is not read in and converted into an integer before being used in the if statement <br>** "
   ]
  },
  {
   "cell_type": "code",
   "execution_count": 1,
   "metadata": {},
   "outputs": [
    {
     "name": "stdout",
     "output_type": "stream",
     "text": [
      "Enter Sound Level67\n",
      "Sound level is between that of a quiet room and an alarm clock\n"
     ]
    }
   ],
   "source": [
    "soundLevel = int(input(\"Enter Sound Level\"))\n",
    "if (soundLevel > 131):\n",
    "    print(\"Sound level is greater than that of a Jackhammer\")\n",
    "elif (soundLevel == 131):\n",
    "    print(\"Jackhammer!\")\n",
    "elif (soundLevel < 131 and soundLevel > 107):\n",
    "    print(\"Sound level is between that of a gas lawnmower and a jackhammer\")\n",
    "elif (soundLevel == 107):\n",
    "    print(\"Gas lawnmower!\")\n",
    "elif (soundLevel < 107 and soundLevel > 69):\n",
    "    print(\"Sound level is between that of an alarm clock and a gas lawnmower\")\n",
    "elif (soundLevel == 69):\n",
    "    print(\"Alarm clock!\")\n",
    "elif (soundLevel < 69 and soundLevel > 41):\n",
    "    print(\"Sound level is between that of a quiet room and an alarm clock\")\n",
    "elif (soundLevel == 41):\n",
    "    print(\"Quiet room!\")\n",
    "else:\n",
    "    print(\"Sound level is less than that of a quiet room\")"
   ]
  },
  {
   "cell_type": "code",
   "execution_count": null,
   "metadata": {},
   "outputs": [],
   "source": [
    "score = 96\n",
    "if (score>=90):\n",
    "    print(\"A\")\n",
    "else:\n",
    "    print"
   ]
  },
  {
   "cell_type": "markdown",
   "metadata": {},
   "source": [
    "3. The table below shows the current (2019/2020) College Football Rankings and the number of wins by each team. <br>\n",
    "    a. Create a pandas DataFrame that stores the information in this table and displays this. <br>\n",
    "    ** 5 points will be deducted if this is not attempted. 2 points will be deducted if it is wrong or there is a typo** <br><br>\n",
    "    b. Display (or print out) the mean, standard deviation and maximum of the number of wins given in this dataframe. <br>\n",
    "    ** 5 points will be deducted if this is not attempted. 2 points will be deducted if it is wrong or there is a typo** <br>\n"
   ]
  },
  {
   "cell_type": "markdown",
   "metadata": {},
   "source": [
    "| School       | Number of wins |\n",
    "| ------------ | -------------- |\n",
    "| LSU          |        15      |\n",
    "| Clemson      |        14      |\n",
    "| Ohio State   |        13      |\n",
    "| Georgia      |        12      | \n",
    "| Oregon       |        12      | "
   ]
  },
  {
   "cell_type": "code",
   "execution_count": 3,
   "metadata": {},
   "outputs": [
    {
     "data": {
      "text/html": [
       "<div>\n",
       "<style scoped>\n",
       "    .dataframe tbody tr th:only-of-type {\n",
       "        vertical-align: middle;\n",
       "    }\n",
       "\n",
       "    .dataframe tbody tr th {\n",
       "        vertical-align: top;\n",
       "    }\n",
       "\n",
       "    .dataframe thead th {\n",
       "        text-align: right;\n",
       "    }\n",
       "</style>\n",
       "<table border=\"1\" class=\"dataframe\">\n",
       "  <thead>\n",
       "    <tr style=\"text-align: right;\">\n",
       "      <th></th>\n",
       "      <th>School</th>\n",
       "      <th>Number of Wins</th>\n",
       "    </tr>\n",
       "  </thead>\n",
       "  <tbody>\n",
       "    <tr>\n",
       "      <th>A</th>\n",
       "      <td>LSU</td>\n",
       "      <td>15</td>\n",
       "    </tr>\n",
       "    <tr>\n",
       "      <th>B</th>\n",
       "      <td>Clemson</td>\n",
       "      <td>14</td>\n",
       "    </tr>\n",
       "    <tr>\n",
       "      <th>C</th>\n",
       "      <td>Ohio State</td>\n",
       "      <td>13</td>\n",
       "    </tr>\n",
       "    <tr>\n",
       "      <th>D</th>\n",
       "      <td>Georgia</td>\n",
       "      <td>12</td>\n",
       "    </tr>\n",
       "    <tr>\n",
       "      <th>E</th>\n",
       "      <td>Oregon</td>\n",
       "      <td>12</td>\n",
       "    </tr>\n",
       "  </tbody>\n",
       "</table>\n",
       "</div>"
      ],
      "text/plain": [
       "       School  Number of Wins\n",
       "A         LSU              15\n",
       "B     Clemson              14\n",
       "C  Ohio State              13\n",
       "D     Georgia              12\n",
       "E      Oregon              12"
      ]
     },
     "execution_count": 3,
     "metadata": {},
     "output_type": "execute_result"
    }
   ],
   "source": [
    "import numpy as np\n",
    "import pandas as pd\n",
    "teams=['LSU','Clemson','Ohio State','Georgia','Oregon']\n",
    "numWins = [15,14,13,12,12]\n",
    "df=pd.DataFrame(data={'School':teams,'Number of Wins':numWins},index=['A','B','C','D','E'])\n",
    "df"
   ]
  },
  {
   "cell_type": "code",
   "execution_count": null,
   "metadata": {},
   "outputs": [],
   "source": [
    "df.describe()"
   ]
  },
  {
   "cell_type": "markdown",
   "metadata": {},
   "source": [
    "# Extra Credit (10%)\n",
    "**Attempt Problem 5 below for 10% extra credit**"
   ]
  },
  {
   "cell_type": "markdown",
   "metadata": {},
   "source": [
    "5. Write a program that generates 12 random integers between 0 and 100, and then prints the largest even number that was entered. If no even number was entered it should print a message to that effect. <br>\n",
    "Hints: <br>\n",
    "    a. Use pseudo-code. <br>\n",
    "    b. Generate a random number using the code below:<br>\n",
    "    myRandInt = np.random.randint(low=0, high=100, size=12)<br>\n",
    "    c. Initialize an empty list to contain the odd numbers. Name this list oddInt <br>\n",
    "    d. Within your for loop, you can append odd numbers to this empty list using the append function. eg: <br>\n",
    "    oddInt.append(\"The current odd number from the list should be put in here!\") <br>\n",
    "**Your code has to work perfectly to get this bonus 10%**    "
   ]
  },
  {
   "cell_type": "code",
   "execution_count": 17,
   "metadata": {},
   "outputs": [
    {
     "name": "stdout",
     "output_type": "stream",
     "text": [
      "[71 20 70 32  0 72 82 97  7  9 79 87]\n",
      "82\n"
     ]
    }
   ],
   "source": [
    "import numpy as np\n",
    "myRandInt = np.random.randint(low=0, high=100, size=12)\n",
    "print(myRandInt)\n",
    "\n",
    "evenInt = []\n",
    "oddInt = []\n",
    "for myInt in myRandInt:\n",
    "    if (myInt%2 == 0):\n",
    "        #even\n",
    "        evenInt.append(myInt)\n",
    "    else:\n",
    "        #odd\n",
    "        oddInt.append(myInt)\n",
    "\n",
    "if (len(evenInt) > 0):\n",
    "    print(np.max(evenInt))\n",
    "else:\n",
    "    print(\"No even number was entered\")\n"
   ]
  },
  {
   "cell_type": "code",
   "execution_count": null,
   "metadata": {},
   "outputs": [],
   "source": []
  }
 ],
 "metadata": {
  "colab": {
   "collapsed_sections": [
    "sYQs3O-6dHFb",
    "8sIJ4A57dHFk",
    "_73RPOcBdHFn",
    "h9s2tfPcdHFo",
    "zt4YHVYPdHGR"
   ],
   "include_colab_link": true,
   "name": "Copy of intro-python-colab.ipynb",
   "provenance": [],
   "version": "0.3.2"
  },
  "kernelspec": {
   "display_name": "Python 3",
   "language": "python",
   "name": "python3"
  },
  "language_info": {
   "codemirror_mode": {
    "name": "ipython",
    "version": 3
   },
   "file_extension": ".py",
   "mimetype": "text/x-python",
   "name": "python",
   "nbconvert_exporter": "python",
   "pygments_lexer": "ipython3",
   "version": "3.8.5"
  }
 },
 "nbformat": 4,
 "nbformat_minor": 1
}
