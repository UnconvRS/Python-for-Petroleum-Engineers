{
 "cells": [
  {
   "cell_type": "markdown",
   "metadata": {},
   "source": [
    "\n",
    " # Inferential Statistics\n",
    "\n",
    "## PETE 2061 Lab 8\n",
    "\n",
    "<a id='top'></a>"
   ]
  },
  {
   "cell_type": "markdown",
   "metadata": {},
   "source": [
    "<a id='overview'></a>\n",
    "# Topics Covered\n",
    "<font color=blue>\n",
    " * [Confidence Intervals](#CI) \n",
    " * [Bootstrapping](#bootstrap)\n",
    " * [Hypothesis Testing](#hypothesis)  \n",
    " * [P-values and confidence intervals](#p-value)\n",
    "</font>\n",
    "<br>"
   ]
  },
  {
   "cell_type": "markdown",
   "metadata": {},
   "source": [
    "<a id='CI'> </a>\n",
    "## Confidence Intervals\n",
    "* poll.csv contains a poll for the favorite candidate to win an upcoming presidential election between Ed Orgeron (LSU coach) and Nick Saban (Alabama coach).\n",
    "* This csv file contains the votes from a sample of 1,000 people. \n",
    "* We import required packages"
   ]
  },
  {
   "cell_type": "code",
   "execution_count": 6,
   "metadata": {},
   "outputs": [],
   "source": [
    "import math\n",
    "import io"
   ]
  },
  {
   "cell_type": "code",
   "execution_count": 7,
   "metadata": {},
   "outputs": [],
   "source": [
    "import numpy as np\n",
    "import pandas as pd\n",
    "\n",
    "import matplotlib\n",
    "import matplotlib.pyplot as plt\n",
    "\n",
    "%matplotlib inline"
   ]
  },
  {
   "cell_type": "code",
   "execution_count": 8,
   "metadata": {},
   "outputs": [],
   "source": [
    "import scipy.stats\n",
    "import scipy.optimize\n",
    "import scipy.spatial"
   ]
  },
  {
   "cell_type": "markdown",
   "metadata": {},
   "source": [
    "* We import the 1000 polls stored in poll.csv"
   ]
  },
  {
   "cell_type": "code",
   "execution_count": 9,
   "metadata": {},
   "outputs": [],
   "source": [
    "poll = pd.read_csv('poll.csv')"
   ]
  },
  {
   "cell_type": "code",
   "execution_count": 10,
   "metadata": {},
   "outputs": [
    {
     "name": "stdout",
     "output_type": "stream",
     "text": [
      "<class 'pandas.core.frame.DataFrame'>\n",
      "RangeIndex: 1000 entries, 0 to 999\n",
      "Data columns (total 1 columns):\n",
      "vote    1000 non-null object\n",
      "dtypes: object(1)\n",
      "memory usage: 7.9+ KB\n"
     ]
    }
   ],
   "source": [
    "poll.info()  # this gives a summary of the columns and rows in this csv fiile, as well as the data types."
   ]
  },
  {
   "cell_type": "code",
   "execution_count": 11,
   "metadata": {},
   "outputs": [
    {
     "data": {
      "text/html": [
       "<div>\n",
       "<style scoped>\n",
       "    .dataframe tbody tr th:only-of-type {\n",
       "        vertical-align: middle;\n",
       "    }\n",
       "\n",
       "    .dataframe tbody tr th {\n",
       "        vertical-align: top;\n",
       "    }\n",
       "\n",
       "    .dataframe thead th {\n",
       "        text-align: right;\n",
       "    }\n",
       "</style>\n",
       "<table border=\"1\" class=\"dataframe\">\n",
       "  <thead>\n",
       "    <tr style=\"text-align: right;\">\n",
       "      <th></th>\n",
       "      <th>vote</th>\n",
       "    </tr>\n",
       "  </thead>\n",
       "  <tbody>\n",
       "    <tr>\n",
       "      <th>0</th>\n",
       "      <td>Saban</td>\n",
       "    </tr>\n",
       "    <tr>\n",
       "      <th>1</th>\n",
       "      <td>Orgeron</td>\n",
       "    </tr>\n",
       "    <tr>\n",
       "      <th>2</th>\n",
       "      <td>Saban</td>\n",
       "    </tr>\n",
       "    <tr>\n",
       "      <th>3</th>\n",
       "      <td>Saban</td>\n",
       "    </tr>\n",
       "    <tr>\n",
       "      <th>4</th>\n",
       "      <td>Saban</td>\n",
       "    </tr>\n",
       "  </tbody>\n",
       "</table>\n",
       "</div>"
      ],
      "text/plain": [
       "      vote\n",
       "0    Saban\n",
       "1  Orgeron\n",
       "2    Saban\n",
       "3    Saban\n",
       "4    Saban"
      ]
     },
     "execution_count": 11,
     "metadata": {},
     "output_type": "execute_result"
    }
   ],
   "source": [
    "poll.head()   #displays first five entries in the data frame"
   ]
  },
  {
   "cell_type": "code",
   "execution_count": 12,
   "metadata": {},
   "outputs": [
    {
     "data": {
      "text/plain": [
       "Saban      0.511\n",
       "Orgeron    0.489\n",
       "Name: vote, dtype: float64"
      ]
     },
     "execution_count": 12,
     "metadata": {},
     "output_type": "execute_result"
    }
   ],
   "source": [
    "poll['vote'].value_counts(normalize=True)  #this returns the normalized number of votes (proportions) for LSU and Bama. \n",
    "#Try running it with normalize=False"
   ]
  },
  {
   "cell_type": "markdown",
   "metadata": {},
   "source": [
    "* This data suggests that Nick Saban is more likely to win than Ed Orgeron.\n",
    "* However, the limited sample means that this proportion depends on the actual potential voters that were polled.  \n",
    "* This is known as **sampling variability**.\n",
    "* Given this poll, what can we say about the underlying population of all potential voters? \n",
    "* To understand this, we need to study the sampling distribution of the proportion. \n",
    "* The goal is to understand what range of different samples we may get for the same population, and we will do this by computer simulation. \n",
    "* The simple function below simulates such a sample. "
   ]
  },
  {
   "cell_type": "code",
   "execution_count": 13,
   "metadata": {},
   "outputs": [],
   "source": [
    "def sample(sabanWinPercent,n=1000):\n",
    "    return pd.DataFrame({'vote': np.where(np.random.rand(n) < sabanWinPercent,'Saban','Orgeron')})\n",
    "\n",
    "#Note the use of the function np.where(condition, result_if_true, result_if_false) \n",
    "#np.random.rand(n) generates 1000 (uniformly distributed) random samples ranging between 0 and 1.\n",
    "#np.where stores \"Saban\" in the rows where the random number is less than 0.511, and \"Orgeron\" elsewhere."
   ]
  },
  {
   "cell_type": "code",
   "execution_count": 14,
   "metadata": {},
   "outputs": [],
   "source": [
    "s = sample(0.511,n=1000)   #0.511 is the Nick Saban's winning percentage in the sample of 1000 potential voters."
   ]
  },
  {
   "cell_type": "code",
   "execution_count": 15,
   "metadata": {},
   "outputs": [
    {
     "data": {
      "text/html": [
       "<div>\n",
       "<style scoped>\n",
       "    .dataframe tbody tr th:only-of-type {\n",
       "        vertical-align: middle;\n",
       "    }\n",
       "\n",
       "    .dataframe tbody tr th {\n",
       "        vertical-align: top;\n",
       "    }\n",
       "\n",
       "    .dataframe thead th {\n",
       "        text-align: right;\n",
       "    }\n",
       "</style>\n",
       "<table border=\"1\" class=\"dataframe\">\n",
       "  <thead>\n",
       "    <tr style=\"text-align: right;\">\n",
       "      <th></th>\n",
       "      <th>vote</th>\n",
       "    </tr>\n",
       "  </thead>\n",
       "  <tbody>\n",
       "    <tr>\n",
       "      <th>0</th>\n",
       "      <td>Orgeron</td>\n",
       "    </tr>\n",
       "    <tr>\n",
       "      <th>1</th>\n",
       "      <td>Orgeron</td>\n",
       "    </tr>\n",
       "    <tr>\n",
       "      <th>2</th>\n",
       "      <td>Saban</td>\n",
       "    </tr>\n",
       "    <tr>\n",
       "      <th>3</th>\n",
       "      <td>Orgeron</td>\n",
       "    </tr>\n",
       "    <tr>\n",
       "      <th>4</th>\n",
       "      <td>Orgeron</td>\n",
       "    </tr>\n",
       "  </tbody>\n",
       "</table>\n",
       "</div>"
      ],
      "text/plain": [
       "      vote\n",
       "0  Orgeron\n",
       "1  Orgeron\n",
       "2    Saban\n",
       "3  Orgeron\n",
       "4  Orgeron"
      ]
     },
     "execution_count": 15,
     "metadata": {},
     "output_type": "execute_result"
    }
   ],
   "source": [
    "s.head()"
   ]
  },
  {
   "cell_type": "code",
   "execution_count": 16,
   "metadata": {},
   "outputs": [
    {
     "data": {
      "text/plain": [
       "Orgeron    0.506\n",
       "Saban      0.494\n",
       "Name: vote, dtype: float64"
      ]
     },
     "execution_count": 16,
     "metadata": {},
     "output_type": "execute_result"
    }
   ],
   "source": [
    "s['vote'].value_counts(normalize=True)"
   ]
  },
  {
   "cell_type": "markdown",
   "metadata": {},
   "source": [
    "* For this randomly generated sample, Orgeron is actually predicted to win the election, even though the true Saban winning percentage is 51.1%. \n",
    "* So, depending on the sample you are looking at, Orgeron can actually be predicted to win the election, even though the true Saban win percentage is 51.1%. \n",
    "* We repeat this 1000 times and collect the results in a DataFrame called distDF. "
   ]
  },
  {
   "cell_type": "code",
   "execution_count": 17,
   "metadata": {},
   "outputs": [
    {
     "data": {
      "text/html": [
       "<div>\n",
       "<style scoped>\n",
       "    .dataframe tbody tr th:only-of-type {\n",
       "        vertical-align: middle;\n",
       "    }\n",
       "\n",
       "    .dataframe tbody tr th {\n",
       "        vertical-align: top;\n",
       "    }\n",
       "\n",
       "    .dataframe thead th {\n",
       "        text-align: right;\n",
       "    }\n",
       "</style>\n",
       "<table border=\"1\" class=\"dataframe\">\n",
       "  <thead>\n",
       "    <tr style=\"text-align: right;\">\n",
       "      <th></th>\n",
       "      <th>Saban</th>\n",
       "      <th>Orgeron</th>\n",
       "    </tr>\n",
       "  </thead>\n",
       "  <tbody>\n",
       "    <tr>\n",
       "      <th>vote</th>\n",
       "      <td>0.502</td>\n",
       "      <td>0.498</td>\n",
       "    </tr>\n",
       "    <tr>\n",
       "      <th>vote</th>\n",
       "      <td>0.512</td>\n",
       "      <td>0.488</td>\n",
       "    </tr>\n",
       "    <tr>\n",
       "      <th>vote</th>\n",
       "      <td>0.510</td>\n",
       "      <td>0.490</td>\n",
       "    </tr>\n",
       "    <tr>\n",
       "      <th>vote</th>\n",
       "      <td>0.514</td>\n",
       "      <td>0.486</td>\n",
       "    </tr>\n",
       "    <tr>\n",
       "      <th>vote</th>\n",
       "      <td>0.513</td>\n",
       "      <td>0.487</td>\n",
       "    </tr>\n",
       "  </tbody>\n",
       "</table>\n",
       "</div>"
      ],
      "text/plain": [
       "      Saban  Orgeron\n",
       "vote  0.502    0.498\n",
       "vote  0.512    0.488\n",
       "vote  0.510    0.490\n",
       "vote  0.514    0.486\n",
       "vote  0.513    0.487"
      ]
     },
     "execution_count": 17,
     "metadata": {},
     "output_type": "execute_result"
    }
   ],
   "source": [
    "distDF = pd.DataFrame([sample(0.511)['vote'].value_counts(normalize=True) for i in range(1000)])\n",
    "#recall list comprehension: [operation for i in range(1000)]\n",
    "distDF.head()"
   ]
  },
  {
   "cell_type": "code",
   "execution_count": 18,
   "metadata": {},
   "outputs": [
    {
     "data": {
      "text/plain": [
       "<matplotlib.axes._subplots.AxesSubplot at 0x12d0d3e80>"
      ]
     },
     "execution_count": 18,
     "metadata": {},
     "output_type": "execute_result"
    },
    {
     "data": {
      "image/png": "[encoded data removed]",
      "text/plain": [
       "<Figure size 432x288 with 1 Axes>"
      ]
     },
     "metadata": {},
     "output_type": "display_data"
    }
   ],
   "source": [
    "distDF['Saban'].plot(kind='hist',histtype='step',bins=20)\n",
    "#distDF['Saban'].hist(histtype='step',bins=20)"
   ]
  },
  {
   "cell_type": "markdown",
   "metadata": {},
   "source": [
    "* It turns out that for a true Saban winning percentage of 51.1%, we may obtain any sample winning percentage from 46% to 56%. \n",
    "* This means that the sample poll of 51.1% winning percentage for Saban could have originated from a voting population with Orgeron actually having a higher winning percentage.\n",
    "* Can we make this more precise and identify a likely range of true winning percentages? \n",
    "* This leads to a very important notion in statistics, which is \"confidence intervals\".\n",
    "* We can easily visualize the 95% confidence interval by displaying vertical lines at the 2.5th percentile and 97.5th percentile.\n",
    "* This ensures that the area under the tail on both sides of the probability density function sums up to 5%, and the area within those two vertical lines sums up to 95%."
   ]
  },
  {
   "cell_type": "code",
   "execution_count": 19,
   "metadata": {},
   "outputs": [
    {
     "data": {
      "text/plain": [
       "<matplotlib.lines.Line2D at 0x12d180828>"
      ]
     },
     "execution_count": 19,
     "metadata": {},
     "output_type": "execute_result"
    },
    {
     "data": {
      "image/png": "[encoded data removed]",
      "text/plain": [
       "<Figure size 432x288 with 1 Axes>"
      ]
     },
     "metadata": {},
     "output_type": "display_data"
    }
   ],
   "source": [
    "distDF['Saban'].plot(kind='hist',histtype='step',bins=30, density=True)\n",
    "plt.axvline(distDF['Saban'].quantile(0.025), c='C1',linestyle='--')\n",
    "#plt.axvline(distDF['Saban'].quantile(0.500), c='C1')\n",
    "plt.axvline(distDF['Saban'].quantile(0.975), c='C1',linestyle=':')"
   ]
  },
  {
   "cell_type": "markdown",
   "metadata": {},
   "source": [
    "* So, we can conclude that:\n",
    "* 95% confidence interval is: [0.48,0.54]\n",
    "* Estimate = 0.51 +/- 0.03 (at 95% confidence)\n",
    "* Here, 0.51 is the **point estimate**, and 0.03 is the **margin of error** on either side of the point estimate.\n",
    "* Therefore, the result of this election lies within the margin of error of the poll.\n",
    "* This is not satisfying, so we need to increase the size of the sample.\n",
    "* How much bigger does the sample need to be?\n",
    "* We will determine this by computer simulation\n",
    "* Let us implement the process of generating n different samples with a specified winning percentage in a function:"
   ]
  },
  {
   "cell_type": "code",
   "execution_count": 20,
   "metadata": {},
   "outputs": [],
   "source": [
    "def samplingdist(sabanWinPercent,n=1000):\n",
    "    return pd.DataFrame([sample(sabanWinPercent,n)['vote'].value_counts(normalize=True) for i in range(1000)])"
   ]
  },
  {
   "cell_type": "markdown",
   "metadata": {},
   "source": [
    "We then create a quantile function that calls the samplingdist() function, and then computes and returns the 2.5th and 97.5th percentiles."
   ]
  },
  {
   "cell_type": "code",
   "execution_count": 21,
   "metadata": {},
   "outputs": [],
   "source": [
    "def quantiles(sabanWinPercent,n=1000):\n",
    "    distDF = samplingdist(sabanWinPercent,n)\n",
    "    return distDF['Saban'].quantile(0.025), distDF['Saban'].quantile(0.975)"
   ]
  },
  {
   "cell_type": "code",
   "execution_count": 22,
   "metadata": {},
   "outputs": [
    {
     "data": {
      "text/plain": [
       "(0.477, 0.541)"
      ]
     },
     "execution_count": 22,
     "metadata": {},
     "output_type": "execute_result"
    }
   ],
   "source": [
    "quantiles(0.511)"
   ]
  },
  {
   "cell_type": "markdown",
   "metadata": {},
   "source": [
    "* This again confirms that the 95% confidence interval is: [0.48,0.54]\n",
    "* Using the samplingdist() function, generate 10,000 samples with a Saban winning percentage of 50%\n",
    "* Generate a histogram using the returned dataframe"
   ]
  },
  {
   "cell_type": "code",
   "execution_count": 23,
   "metadata": {},
   "outputs": [],
   "source": [
    "distDF = samplingdist(0.50,10000)"
   ]
  },
  {
   "cell_type": "code",
   "execution_count": 24,
   "metadata": {},
   "outputs": [
    {
     "data": {
      "text/plain": [
       "<matplotlib.lines.Line2D at 0x12d186208>"
      ]
     },
     "execution_count": 24,
     "metadata": {},
     "output_type": "execute_result"
    },
    {
     "data": {
      "image/png": "[encoded data removed]",
      "text/plain": [
       "<Figure size 432x288 with 1 Axes>"
      ]
     },
     "metadata": {},
     "output_type": "display_data"
    }
   ],
   "source": [
    "distDF['Saban'].plot(kind='hist', histtype='step',bins=20)\n",
    "plt.axvline(distDF['Saban'].quantile(0.025), c='C1',linestyle='--')\n",
    "plt.axvline(distDF['Saban'].quantile(0.500), c='C1')\n",
    "plt.axvline(distDF['Saban'].quantile(0.975), c='C1',linestyle=':')"
   ]
  },
  {
   "cell_type": "code",
   "execution_count": 25,
   "metadata": {},
   "outputs": [
    {
     "data": {
      "text/plain": [
       "(0.490695, 0.5098025)"
      ]
     },
     "execution_count": 25,
     "metadata": {},
     "output_type": "execute_result"
    }
   ],
   "source": [
    "quantiles(0.5,10000)"
   ]
  },
  {
   "cell_type": "markdown",
   "metadata": {},
   "source": [
    "* The plot and quantiles show that the 95% confidence interval is: [0.49,0.51]\n",
    "* Estimate = 0.5 +/- 0.01 (at 95% confidence)\n",
    "* This means that the margin of error lies within 1% when we use a sample size of 10,000.\n",
    "* This would have been sufficient to claim Nick Saban as the likely winner of the election.\n",
    "* Under very general conditions, one can show that the margin of error improves with square root of the number of samples\n",
    "* Now load the large poll data, which is a sample of 10,000 voters"
   ]
  },
  {
   "cell_type": "code",
   "execution_count": 33,
   "metadata": {},
   "outputs": [
    {
     "data": {
      "text/plain": [
       "Orgeron    0.5181\n",
       "Saban      0.4819\n",
       "Name: vote, dtype: float64"
      ]
     },
     "execution_count": 33,
     "metadata": {},
     "output_type": "execute_result"
    }
   ],
   "source": [
    "largepoll = pd.read_csv('poll-larger.csv')\n",
    "largepoll['vote'].value_counts(normalize=True)"
   ]
  },
  {
   "cell_type": "markdown",
   "metadata": {},
   "source": [
    "* This poll of 10,000 potential voters indicates that the likely winner is actually Ed Orgeron and not Nick Saban.\n",
    "* Can you compute the confidence interval for this winning percentage of Ed Orgeron, and show that he is the likely winner within a 95% confidence interval?\n",
    "* Do you obtain a confidence interval between 50.8 and 52.8?"
   ]
  },
  {
   "cell_type": "code",
   "execution_count": null,
   "metadata": {},
   "outputs": [],
   "source": []
  },
  {
   "cell_type": "markdown",
   "metadata": {},
   "source": [
    "<a id='bootstrap'> </a>\n",
    "## Bootstrapping\n",
    "* In this section, we will import your grades in the multiple-choice part of the mid-term exam.\n",
    "* The scores are reported as your raw score, out of a total of 50."
   ]
  },
  {
   "cell_type": "code",
   "execution_count": 34,
   "metadata": {},
   "outputs": [],
   "source": [
    "gradeDF = pd.read_csv('midterm_Part1.csv')"
   ]
  },
  {
   "cell_type": "code",
   "execution_count": 35,
   "metadata": {},
   "outputs": [
    {
     "data": {
      "text/html": [
       "<div>\n",
       "<style scoped>\n",
       "    .dataframe tbody tr th:only-of-type {\n",
       "        vertical-align: middle;\n",
       "    }\n",
       "\n",
       "    .dataframe tbody tr th {\n",
       "        vertical-align: top;\n",
       "    }\n",
       "\n",
       "    .dataframe thead th {\n",
       "        text-align: right;\n",
       "    }\n",
       "</style>\n",
       "<table border=\"1\" class=\"dataframe\">\n",
       "  <thead>\n",
       "    <tr style=\"text-align: right;\">\n",
       "      <th></th>\n",
       "      <th>grade</th>\n",
       "    </tr>\n",
       "  </thead>\n",
       "  <tbody>\n",
       "    <tr>\n",
       "      <th>0</th>\n",
       "      <td>28</td>\n",
       "    </tr>\n",
       "    <tr>\n",
       "      <th>1</th>\n",
       "      <td>48</td>\n",
       "    </tr>\n",
       "    <tr>\n",
       "      <th>2</th>\n",
       "      <td>50</td>\n",
       "    </tr>\n",
       "    <tr>\n",
       "      <th>3</th>\n",
       "      <td>44</td>\n",
       "    </tr>\n",
       "    <tr>\n",
       "      <th>4</th>\n",
       "      <td>38</td>\n",
       "    </tr>\n",
       "  </tbody>\n",
       "</table>\n",
       "</div>"
      ],
      "text/plain": [
       "   grade\n",
       "0     28\n",
       "1     48\n",
       "2     50\n",
       "3     44\n",
       "4     38"
      ]
     },
     "execution_count": 35,
     "metadata": {},
     "output_type": "execute_result"
    }
   ],
   "source": [
    "gradeDF.head()"
   ]
  },
  {
   "cell_type": "code",
   "execution_count": 36,
   "metadata": {},
   "outputs": [
    {
     "data": {
      "text/plain": [
       "<matplotlib.axes._subplots.AxesSubplot at 0x12d10b550>"
      ]
     },
     "execution_count": 36,
     "metadata": {},
     "output_type": "execute_result"
    },
    {
     "data": {
      "image/png": "[encoded data removed]",
      "text/plain": [
       "<Figure size 432x288 with 1 Axes>"
      ]
     },
     "metadata": {},
     "output_type": "display_data"
    }
   ],
   "source": [
    "gradeDF['grade'].plot(kind='hist',histtype='step')"
   ]
  },
  {
   "cell_type": "code",
   "execution_count": 30,
   "metadata": {},
   "outputs": [
    {
     "data": {
      "text/html": [
       "<div>\n",
       "<style scoped>\n",
       "    .dataframe tbody tr th:only-of-type {\n",
       "        vertical-align: middle;\n",
       "    }\n",
       "\n",
       "    .dataframe tbody tr th {\n",
       "        vertical-align: top;\n",
       "    }\n",
       "\n",
       "    .dataframe thead th {\n",
       "        text-align: right;\n",
       "    }\n",
       "</style>\n",
       "<table border=\"1\" class=\"dataframe\">\n",
       "  <thead>\n",
       "    <tr style=\"text-align: right;\">\n",
       "      <th></th>\n",
       "      <th>grade</th>\n",
       "    </tr>\n",
       "  </thead>\n",
       "  <tbody>\n",
       "    <tr>\n",
       "      <th>count</th>\n",
       "      <td>36.000000</td>\n",
       "    </tr>\n",
       "    <tr>\n",
       "      <th>mean</th>\n",
       "      <td>43.444444</td>\n",
       "    </tr>\n",
       "    <tr>\n",
       "      <th>std</th>\n",
       "      <td>5.628725</td>\n",
       "    </tr>\n",
       "    <tr>\n",
       "      <th>min</th>\n",
       "      <td>28.000000</td>\n",
       "    </tr>\n",
       "    <tr>\n",
       "      <th>25%</th>\n",
       "      <td>42.000000</td>\n",
       "    </tr>\n",
       "    <tr>\n",
       "      <th>50%</th>\n",
       "      <td>44.000000</td>\n",
       "    </tr>\n",
       "    <tr>\n",
       "      <th>75%</th>\n",
       "      <td>48.000000</td>\n",
       "    </tr>\n",
       "    <tr>\n",
       "      <th>max</th>\n",
       "      <td>50.000000</td>\n",
       "    </tr>\n",
       "  </tbody>\n",
       "</table>\n",
       "</div>"
      ],
      "text/plain": [
       "           grade\n",
       "count  36.000000\n",
       "mean   43.444444\n",
       "std     5.628725\n",
       "min    28.000000\n",
       "25%    42.000000\n",
       "50%    44.000000\n",
       "75%    48.000000\n",
       "max    50.000000"
      ]
     },
     "execution_count": 30,
     "metadata": {},
     "output_type": "execute_result"
    }
   ],
   "source": [
    "gradeDF.describe()"
   ]
  },
  {
   "cell_type": "markdown",
   "metadata": {},
   "source": [
    "* The histogram has no recognizable simple form, but the mean for the sample is 43.44. \n",
    "* What can we say about the true mean value (if this is just a sample from PETE 2061 students)? \n",
    "* This time we cannot build a confidence interval by simulating the sampling distribution because we do not know how to describe it. \n",
    "* However, we can still use computing by adopting a powerful idea in modern statistics, called \"bootstrapping\".\n",
    "* We will estimate the uncertainty in the mean of these grades by generating several samples from the one given. This is done by sampling with replacement as shown below."
   ]
  },
  {
   "cell_type": "code",
   "execution_count": 31,
   "metadata": {},
   "outputs": [
    {
     "data": {
      "text/html": [
       "<div>\n",
       "<style scoped>\n",
       "    .dataframe tbody tr th:only-of-type {\n",
       "        vertical-align: middle;\n",
       "    }\n",
       "\n",
       "    .dataframe tbody tr th {\n",
       "        vertical-align: top;\n",
       "    }\n",
       "\n",
       "    .dataframe thead th {\n",
       "        text-align: right;\n",
       "    }\n",
       "</style>\n",
       "<table border=\"1\" class=\"dataframe\">\n",
       "  <thead>\n",
       "    <tr style=\"text-align: right;\">\n",
       "      <th></th>\n",
       "      <th>grade</th>\n",
       "    </tr>\n",
       "  </thead>\n",
       "  <tbody>\n",
       "    <tr>\n",
       "      <th>count</th>\n",
       "      <td>36.000000</td>\n",
       "    </tr>\n",
       "    <tr>\n",
       "      <th>mean</th>\n",
       "      <td>43.944444</td>\n",
       "    </tr>\n",
       "    <tr>\n",
       "      <th>std</th>\n",
       "      <td>4.622581</td>\n",
       "    </tr>\n",
       "    <tr>\n",
       "      <th>min</th>\n",
       "      <td>30.000000</td>\n",
       "    </tr>\n",
       "    <tr>\n",
       "      <th>25%</th>\n",
       "      <td>42.000000</td>\n",
       "    </tr>\n",
       "    <tr>\n",
       "      <th>50%</th>\n",
       "      <td>44.000000</td>\n",
       "    </tr>\n",
       "    <tr>\n",
       "      <th>75%</th>\n",
       "      <td>48.000000</td>\n",
       "    </tr>\n",
       "    <tr>\n",
       "      <th>max</th>\n",
       "      <td>50.000000</td>\n",
       "    </tr>\n",
       "  </tbody>\n",
       "</table>\n",
       "</div>"
      ],
      "text/plain": [
       "           grade\n",
       "count  36.000000\n",
       "mean   43.944444\n",
       "std     4.622581\n",
       "min    30.000000\n",
       "25%    42.000000\n",
       "50%    44.000000\n",
       "75%    48.000000\n",
       "max    50.000000"
      ]
     },
     "execution_count": 31,
     "metadata": {},
     "output_type": "execute_result"
    }
   ],
   "source": [
    "gradeDF.sample(36,replace=True).describe()  #bootstrapping involves sampling with replacement using the sample() function"
   ]
  },
  {
   "cell_type": "code",
   "execution_count": 38,
   "metadata": {},
   "outputs": [
    {
     "data": {
      "text/html": [
       "<div>\n",
       "<style scoped>\n",
       "    .dataframe tbody tr th:only-of-type {\n",
       "        vertical-align: middle;\n",
       "    }\n",
       "\n",
       "    .dataframe tbody tr th {\n",
       "        vertical-align: top;\n",
       "    }\n",
       "\n",
       "    .dataframe thead th {\n",
       "        text-align: right;\n",
       "    }\n",
       "</style>\n",
       "<table border=\"1\" class=\"dataframe\">\n",
       "  <thead>\n",
       "    <tr style=\"text-align: right;\">\n",
       "      <th></th>\n",
       "      <th>grade</th>\n",
       "    </tr>\n",
       "  </thead>\n",
       "  <tbody>\n",
       "    <tr>\n",
       "      <th>28</th>\n",
       "      <td>48</td>\n",
       "    </tr>\n",
       "    <tr>\n",
       "      <th>31</th>\n",
       "      <td>48</td>\n",
       "    </tr>\n",
       "    <tr>\n",
       "      <th>32</th>\n",
       "      <td>42</td>\n",
       "    </tr>\n",
       "    <tr>\n",
       "      <th>33</th>\n",
       "      <td>42</td>\n",
       "    </tr>\n",
       "    <tr>\n",
       "      <th>32</th>\n",
       "      <td>42</td>\n",
       "    </tr>\n",
       "    <tr>\n",
       "      <th>26</th>\n",
       "      <td>50</td>\n",
       "    </tr>\n",
       "    <tr>\n",
       "      <th>5</th>\n",
       "      <td>36</td>\n",
       "    </tr>\n",
       "    <tr>\n",
       "      <th>28</th>\n",
       "      <td>48</td>\n",
       "    </tr>\n",
       "    <tr>\n",
       "      <th>14</th>\n",
       "      <td>46</td>\n",
       "    </tr>\n",
       "    <tr>\n",
       "      <th>34</th>\n",
       "      <td>30</td>\n",
       "    </tr>\n",
       "    <tr>\n",
       "      <th>0</th>\n",
       "      <td>28</td>\n",
       "    </tr>\n",
       "    <tr>\n",
       "      <th>27</th>\n",
       "      <td>38</td>\n",
       "    </tr>\n",
       "    <tr>\n",
       "      <th>32</th>\n",
       "      <td>42</td>\n",
       "    </tr>\n",
       "    <tr>\n",
       "      <th>10</th>\n",
       "      <td>48</td>\n",
       "    </tr>\n",
       "    <tr>\n",
       "      <th>22</th>\n",
       "      <td>30</td>\n",
       "    </tr>\n",
       "    <tr>\n",
       "      <th>28</th>\n",
       "      <td>48</td>\n",
       "    </tr>\n",
       "    <tr>\n",
       "      <th>32</th>\n",
       "      <td>42</td>\n",
       "    </tr>\n",
       "    <tr>\n",
       "      <th>27</th>\n",
       "      <td>38</td>\n",
       "    </tr>\n",
       "    <tr>\n",
       "      <th>30</th>\n",
       "      <td>44</td>\n",
       "    </tr>\n",
       "    <tr>\n",
       "      <th>12</th>\n",
       "      <td>44</td>\n",
       "    </tr>\n",
       "    <tr>\n",
       "      <th>11</th>\n",
       "      <td>48</td>\n",
       "    </tr>\n",
       "    <tr>\n",
       "      <th>12</th>\n",
       "      <td>44</td>\n",
       "    </tr>\n",
       "    <tr>\n",
       "      <th>7</th>\n",
       "      <td>44</td>\n",
       "    </tr>\n",
       "    <tr>\n",
       "      <th>23</th>\n",
       "      <td>44</td>\n",
       "    </tr>\n",
       "    <tr>\n",
       "      <th>21</th>\n",
       "      <td>42</td>\n",
       "    </tr>\n",
       "    <tr>\n",
       "      <th>3</th>\n",
       "      <td>44</td>\n",
       "    </tr>\n",
       "    <tr>\n",
       "      <th>12</th>\n",
       "      <td>44</td>\n",
       "    </tr>\n",
       "    <tr>\n",
       "      <th>19</th>\n",
       "      <td>40</td>\n",
       "    </tr>\n",
       "    <tr>\n",
       "      <th>29</th>\n",
       "      <td>50</td>\n",
       "    </tr>\n",
       "    <tr>\n",
       "      <th>11</th>\n",
       "      <td>48</td>\n",
       "    </tr>\n",
       "    <tr>\n",
       "      <th>30</th>\n",
       "      <td>44</td>\n",
       "    </tr>\n",
       "    <tr>\n",
       "      <th>10</th>\n",
       "      <td>48</td>\n",
       "    </tr>\n",
       "    <tr>\n",
       "      <th>0</th>\n",
       "      <td>28</td>\n",
       "    </tr>\n",
       "    <tr>\n",
       "      <th>24</th>\n",
       "      <td>44</td>\n",
       "    </tr>\n",
       "    <tr>\n",
       "      <th>3</th>\n",
       "      <td>44</td>\n",
       "    </tr>\n",
       "    <tr>\n",
       "      <th>15</th>\n",
       "      <td>42</td>\n",
       "    </tr>\n",
       "  </tbody>\n",
       "</table>\n",
       "</div>"
      ],
      "text/plain": [
       "    grade\n",
       "28     48\n",
       "31     48\n",
       "32     42\n",
       "33     42\n",
       "32     42\n",
       "26     50\n",
       "5      36\n",
       "28     48\n",
       "14     46\n",
       "34     30\n",
       "0      28\n",
       "27     38\n",
       "32     42\n",
       "10     48\n",
       "22     30\n",
       "28     48\n",
       "32     42\n",
       "27     38\n",
       "30     44\n",
       "12     44\n",
       "11     48\n",
       "12     44\n",
       "7      44\n",
       "23     44\n",
       "21     42\n",
       "3      44\n",
       "12     44\n",
       "19     40\n",
       "29     50\n",
       "11     48\n",
       "30     44\n",
       "10     48\n",
       "0      28\n",
       "24     44\n",
       "3      44\n",
       "15     42"
      ]
     },
     "execution_count": 38,
     "metadata": {},
     "output_type": "execute_result"
    }
   ],
   "source": [
    "gradeDF.sample(36,replace=True)"
   ]
  },
  {
   "cell_type": "markdown",
   "metadata": {},
   "source": [
    "* Observe that the mean of this bootstrapped sample is a little different from the mean of the original sample. \n",
    "* Now, we will generate 1000 bootstrapped samples, and store the means from these 1000 bootstrapped samples using Python list comprehension.\n",
    "* We will then store these 1000 means into a dataframe, named \"bootstrap\"."
   ]
  },
  {
   "cell_type": "code",
   "execution_count": 177,
   "metadata": {},
   "outputs": [],
   "source": [
    "bootstrap = pd.DataFrame({'meangrade': [gradeDF.sample(36,replace=True)['grade'].mean() for i in range(1000)]})"
   ]
  },
  {
   "cell_type": "markdown",
   "metadata": {},
   "source": [
    "* Next, we generate a histogram of the means of these bootstrapped samples, and plot the original mean as a vertical line.\n",
    "* We can now compute the confidence interval for the bootstrapped maen as shown."
   ]
  },
  {
   "cell_type": "code",
   "execution_count": 178,
   "metadata": {},
   "outputs": [
    {
     "data": {
      "text/plain": [
       "<matplotlib.lines.Line2D at 0x11abfbf98>"
      ]
     },
     "execution_count": 178,
     "metadata": {},
     "output_type": "execute_result"
    },
    {
     "data": {
      "image/png": "[encoded data removed]",
      "text/plain": [
       "<Figure size 432x288 with 1 Axes>"
      ]
     },
     "metadata": {},
     "output_type": "display_data"
    }
   ],
   "source": [
    "bootstrap['meangrade'].plot(kind=\"hist\", histtype='step')\n",
    "plt.axvline(gradeDF['grade'].mean(),color='C1') #this places a vertical line at the mean of the original scores"
   ]
  },
  {
   "cell_type": "code",
   "execution_count": 179,
   "metadata": {},
   "outputs": [
    {
     "data": {
      "text/plain": [
       "(41.49861111111112, 45.223611111111104)"
      ]
     },
     "execution_count": 179,
     "metadata": {},
     "output_type": "execute_result"
    }
   ],
   "source": [
    "bootstrap['meangrade'].quantile(0.025), bootstrap['meangrade'].quantile(0.975)"
   ]
  },
  {
   "cell_type": "markdown",
   "metadata": {},
   "source": [
    "<a id='hypothesis'> </a>\n",
    "## Hypothesis Testing\n",
    "* 1854 in London was a very rough time because of the repeated and deadly epidemics of cholera. \n",
    "* Physician John Snow used simple statistics and elegant plotting, to pinpoint the origin of one such outbreaks to a contaminated water pump on Broad Street. \n",
    "* We are going to follow in John Snow's footsteps to learn about testing hypotheses.\n",
    "* We load pumps.csv, which contains the positions of eight water pumps in Central London.\n",
    "* The location of these 8 pumps are given as latitudes and longitudes. \n",
    "* The X- and Y- distances of each of these 8 pumps from pump #0 are also given in kilometers.\n",
    "* Pump 0 is the reference pump, which will plot at point (0,0). All other spatial data are relative to its location."
   ]
  },
  {
   "cell_type": "code",
   "execution_count": 40,
   "metadata": {},
   "outputs": [
    {
     "data": {
      "text/html": [
       "<div>\n",
       "<style scoped>\n",
       "    .dataframe tbody tr th:only-of-type {\n",
       "        vertical-align: middle;\n",
       "    }\n",
       "\n",
       "    .dataframe tbody tr th {\n",
       "        vertical-align: top;\n",
       "    }\n",
       "\n",
       "    .dataframe thead th {\n",
       "        text-align: right;\n",
       "    }\n",
       "</style>\n",
       "<table border=\"1\" class=\"dataframe\">\n",
       "  <thead>\n",
       "    <tr style=\"text-align: right;\">\n",
       "      <th></th>\n",
       "      <th>lat</th>\n",
       "      <th>lon</th>\n",
       "      <th>x</th>\n",
       "      <th>y</th>\n",
       "    </tr>\n",
       "  </thead>\n",
       "  <tbody>\n",
       "    <tr>\n",
       "      <th>0</th>\n",
       "      <td>51.513341</td>\n",
       "      <td>-0.136668</td>\n",
       "      <td>0.000000</td>\n",
       "      <td>0.000000</td>\n",
       "    </tr>\n",
       "    <tr>\n",
       "      <th>1</th>\n",
       "      <td>51.513876</td>\n",
       "      <td>-0.139586</td>\n",
       "      <td>-0.201858</td>\n",
       "      <td>0.059469</td>\n",
       "    </tr>\n",
       "    <tr>\n",
       "      <th>2</th>\n",
       "      <td>51.514906</td>\n",
       "      <td>-0.139671</td>\n",
       "      <td>-0.207738</td>\n",
       "      <td>0.173961</td>\n",
       "    </tr>\n",
       "    <tr>\n",
       "      <th>3</th>\n",
       "      <td>51.512354</td>\n",
       "      <td>-0.131630</td>\n",
       "      <td>0.348513</td>\n",
       "      <td>-0.109712</td>\n",
       "    </tr>\n",
       "    <tr>\n",
       "      <th>4</th>\n",
       "      <td>51.512139</td>\n",
       "      <td>-0.133594</td>\n",
       "      <td>0.212650</td>\n",
       "      <td>-0.133611</td>\n",
       "    </tr>\n",
       "    <tr>\n",
       "      <th>5</th>\n",
       "      <td>51.511542</td>\n",
       "      <td>-0.135919</td>\n",
       "      <td>0.051813</td>\n",
       "      <td>-0.199972</td>\n",
       "    </tr>\n",
       "    <tr>\n",
       "      <th>6</th>\n",
       "      <td>51.510019</td>\n",
       "      <td>-0.133962</td>\n",
       "      <td>0.187193</td>\n",
       "      <td>-0.369265</td>\n",
       "    </tr>\n",
       "    <tr>\n",
       "      <th>7</th>\n",
       "      <td>51.511295</td>\n",
       "      <td>-0.138199</td>\n",
       "      <td>-0.105910</td>\n",
       "      <td>-0.227428</td>\n",
       "    </tr>\n",
       "  </tbody>\n",
       "</table>\n",
       "</div>"
      ],
      "text/plain": [
       "         lat       lon         x         y\n",
       "0  51.513341 -0.136668  0.000000  0.000000\n",
       "1  51.513876 -0.139586 -0.201858  0.059469\n",
       "2  51.514906 -0.139671 -0.207738  0.173961\n",
       "3  51.512354 -0.131630  0.348513 -0.109712\n",
       "4  51.512139 -0.133594  0.212650 -0.133611\n",
       "5  51.511542 -0.135919  0.051813 -0.199972\n",
       "6  51.510019 -0.133962  0.187193 -0.369265\n",
       "7  51.511295 -0.138199 -0.105910 -0.227428"
      ]
     },
     "execution_count": 40,
     "metadata": {},
     "output_type": "execute_result"
    }
   ],
   "source": [
    "pumps = pd.read_csv('pumps.csv')\n",
    "pumps"
   ]
  },
  {
   "cell_type": "markdown",
   "metadata": {},
   "source": [
    "* The cholera.csv dataset contains the number of deaths at different locations, as well as the closest pump to that location. \n",
    "* Let's look at one record in every 20 rows. "
   ]
  },
  {
   "cell_type": "code",
   "execution_count": 41,
   "metadata": {},
   "outputs": [
    {
     "data": {
      "text/html": [
       "<div>\n",
       "<style scoped>\n",
       "    .dataframe tbody tr th:only-of-type {\n",
       "        vertical-align: middle;\n",
       "    }\n",
       "\n",
       "    .dataframe tbody tr th {\n",
       "        vertical-align: top;\n",
       "    }\n",
       "\n",
       "    .dataframe thead th {\n",
       "        text-align: right;\n",
       "    }\n",
       "</style>\n",
       "<table border=\"1\" class=\"dataframe\">\n",
       "  <thead>\n",
       "    <tr style=\"text-align: right;\">\n",
       "      <th></th>\n",
       "      <th>deaths</th>\n",
       "      <th>lat</th>\n",
       "      <th>lon</th>\n",
       "      <th>x</th>\n",
       "      <th>y</th>\n",
       "      <th>closest</th>\n",
       "    </tr>\n",
       "  </thead>\n",
       "  <tbody>\n",
       "    <tr>\n",
       "      <th>0</th>\n",
       "      <td>3</td>\n",
       "      <td>51.513418</td>\n",
       "      <td>-0.137930</td>\n",
       "      <td>-0.087301</td>\n",
       "      <td>0.008559</td>\n",
       "      <td>0</td>\n",
       "    </tr>\n",
       "    <tr>\n",
       "      <th>20</th>\n",
       "      <td>2</td>\n",
       "      <td>51.513441</td>\n",
       "      <td>-0.138762</td>\n",
       "      <td>-0.144856</td>\n",
       "      <td>0.011116</td>\n",
       "      <td>1</td>\n",
       "    </tr>\n",
       "    <tr>\n",
       "      <th>40</th>\n",
       "      <td>2</td>\n",
       "      <td>51.513025</td>\n",
       "      <td>-0.139036</td>\n",
       "      <td>-0.163811</td>\n",
       "      <td>-0.035126</td>\n",
       "      <td>1</td>\n",
       "    </tr>\n",
       "    <tr>\n",
       "      <th>60</th>\n",
       "      <td>1</td>\n",
       "      <td>51.512765</td>\n",
       "      <td>-0.137533</td>\n",
       "      <td>-0.059838</td>\n",
       "      <td>-0.064027</td>\n",
       "      <td>0</td>\n",
       "    </tr>\n",
       "    <tr>\n",
       "      <th>80</th>\n",
       "      <td>1</td>\n",
       "      <td>51.512782</td>\n",
       "      <td>-0.136819</td>\n",
       "      <td>-0.010446</td>\n",
       "      <td>-0.062137</td>\n",
       "      <td>0</td>\n",
       "    </tr>\n",
       "    <tr>\n",
       "      <th>100</th>\n",
       "      <td>4</td>\n",
       "      <td>51.512250</td>\n",
       "      <td>-0.135394</td>\n",
       "      <td>0.088131</td>\n",
       "      <td>-0.121273</td>\n",
       "      <td>5</td>\n",
       "    </tr>\n",
       "    <tr>\n",
       "      <th>120</th>\n",
       "      <td>1</td>\n",
       "      <td>51.513238</td>\n",
       "      <td>-0.134594</td>\n",
       "      <td>0.143473</td>\n",
       "      <td>-0.011449</td>\n",
       "      <td>4</td>\n",
       "    </tr>\n",
       "    <tr>\n",
       "      <th>140</th>\n",
       "      <td>1</td>\n",
       "      <td>51.512585</td>\n",
       "      <td>-0.134793</td>\n",
       "      <td>0.129707</td>\n",
       "      <td>-0.084035</td>\n",
       "      <td>4</td>\n",
       "    </tr>\n",
       "    <tr>\n",
       "      <th>160</th>\n",
       "      <td>1</td>\n",
       "      <td>51.514065</td>\n",
       "      <td>-0.134364</td>\n",
       "      <td>0.159384</td>\n",
       "      <td>0.080478</td>\n",
       "      <td>0</td>\n",
       "    </tr>\n",
       "    <tr>\n",
       "      <th>180</th>\n",
       "      <td>1</td>\n",
       "      <td>51.515149</td>\n",
       "      <td>-0.135395</td>\n",
       "      <td>0.088062</td>\n",
       "      <td>0.200973</td>\n",
       "      <td>0</td>\n",
       "    </tr>\n",
       "    <tr>\n",
       "      <th>200</th>\n",
       "      <td>1</td>\n",
       "      <td>51.514586</td>\n",
       "      <td>-0.136030</td>\n",
       "      <td>0.044135</td>\n",
       "      <td>0.138391</td>\n",
       "      <td>0</td>\n",
       "    </tr>\n",
       "    <tr>\n",
       "      <th>220</th>\n",
       "      <td>3</td>\n",
       "      <td>51.513766</td>\n",
       "      <td>-0.135679</td>\n",
       "      <td>0.068416</td>\n",
       "      <td>0.047242</td>\n",
       "      <td>0</td>\n",
       "    </tr>\n",
       "    <tr>\n",
       "      <th>240</th>\n",
       "      <td>2</td>\n",
       "      <td>51.513644</td>\n",
       "      <td>-0.138239</td>\n",
       "      <td>-0.108677</td>\n",
       "      <td>0.033681</td>\n",
       "      <td>1</td>\n",
       "    </tr>\n",
       "  </tbody>\n",
       "</table>\n",
       "</div>"
      ],
      "text/plain": [
       "     deaths        lat       lon         x         y  closest\n",
       "0         3  51.513418 -0.137930 -0.087301  0.008559        0\n",
       "20        2  51.513441 -0.138762 -0.144856  0.011116        1\n",
       "40        2  51.513025 -0.139036 -0.163811 -0.035126        1\n",
       "60        1  51.512765 -0.137533 -0.059838 -0.064027        0\n",
       "80        1  51.512782 -0.136819 -0.010446 -0.062137        0\n",
       "100       4  51.512250 -0.135394  0.088131 -0.121273        5\n",
       "120       1  51.513238 -0.134594  0.143473 -0.011449        4\n",
       "140       1  51.512585 -0.134793  0.129707 -0.084035        4\n",
       "160       1  51.514065 -0.134364  0.159384  0.080478        0\n",
       "180       1  51.515149 -0.135395  0.088062  0.200973        0\n",
       "200       1  51.514586 -0.136030  0.044135  0.138391        0\n",
       "220       3  51.513766 -0.135679  0.068416  0.047242        0\n",
       "240       2  51.513644 -0.138239 -0.108677  0.033681        1"
      ]
     },
     "execution_count": 41,
     "metadata": {},
     "output_type": "execute_result"
    }
   ],
   "source": [
    "cholera = pd.read_csv('cholera.csv')\n",
    "cholera.loc[0::20] #what do you think this does? remember that the syntax is [start:stop:increment]"
   ]
  },
  {
   "cell_type": "markdown",
   "metadata": {},
   "source": [
    "* Both the pump and cholera data can be plotted as shown below:"
   ]
  },
  {
   "cell_type": "code",
   "execution_count": 42,
   "metadata": {},
   "outputs": [
    {
     "data": {
      "text/plain": [
       "<matplotlib.collections.PathCollection at 0x12f6771d0>"
      ]
     },
     "execution_count": 42,
     "metadata": {},
     "output_type": "execute_result"
    },
    {
     "data": {
      "image/png": "[encoded data removed]",
      "text/plain": [
       "<Figure size 432x432 with 1 Axes>"
      ]
     },
     "metadata": {},
     "output_type": "display_data"
    }
   ],
   "source": [
    "plt.figure(figsize=(6,6))\n",
    "plt.scatter(pumps['x'], pumps['y'], color='b')           # the pumps are plotted as the blue dots\n",
    "plt.scatter(cholera['x'], cholera['y'], color='r', s=3)  # the cholera deaths are plotted as red dots"
   ]
  },
  {
   "cell_type": "markdown",
   "metadata": {},
   "source": [
    "* We can load a map image of London and plot the pump and cholera data over it as follows:"
   ]
  },
  {
   "cell_type": "code",
   "execution_count": 43,
   "metadata": {},
   "outputs": [
    {
     "data": {
      "text/plain": [
       "<matplotlib.collections.PathCollection at 0x12f53a5c0>"
      ]
     },
     "execution_count": 43,
     "metadata": {},
     "output_type": "execute_result"
    },
    {
     "data": {
      "image/png": "[encoded data removed]",
      "text/plain": [
       "<Figure size 720x720 with 1 Axes>"
      ]
     },
     "metadata": {},
     "output_type": "display_data"
    }
   ],
   "source": [
    "img = matplotlib.image.imread('london.png')\n",
    "plt.figure(figsize=(10,10))\n",
    "plt.imshow(img,extent=[-0.38,0.38,-0.38,0.38])\n",
    "\n",
    "plt.scatter(pumps['x'], pumps['y'], color='b')           # the pumps are plotted as the blue dots\n",
    "plt.scatter(cholera['x'], cholera['y'], color='r', s=3)  # the cholera deaths are plotted as red dots"
   ]
  },
  {
   "cell_type": "markdown",
   "metadata": {},
   "source": [
    "* Observe that this plot appears to indicate that the cholera deaths are centered around pump #0.\n",
    "* We can obtain the counts of the pump closest to the location of all the cholera deaths as shown below:"
   ]
  },
  {
   "cell_type": "code",
   "execution_count": 44,
   "metadata": {},
   "outputs": [
    {
     "data": {
      "text/plain": [
       "0    171\n",
       "1     36\n",
       "4     19\n",
       "5     13\n",
       "7      9\n",
       "2      2\n",
       "Name: closest, dtype: int64"
      ]
     },
     "execution_count": 44,
     "metadata": {},
     "output_type": "execute_result"
    }
   ],
   "source": [
    "cholera['closest'].value_counts()"
   ]
  },
  {
   "cell_type": "markdown",
   "metadata": {},
   "source": [
    "* Next, we group all the cholera deaths by the pumps the deaths were closest to, and then sum up the deaths\n",
    "* This shows the number of deaths closest to each of the 8 pumps.\n"
   ]
  },
  {
   "cell_type": "code",
   "execution_count": 45,
   "metadata": {},
   "outputs": [
    {
     "data": {
      "text/plain": [
       "closest\n",
       "0    340\n",
       "1     65\n",
       "2      5\n",
       "4     40\n",
       "5     27\n",
       "7     12\n",
       "Name: deaths, dtype: int64"
      ]
     },
     "execution_count": 45,
     "metadata": {},
     "output_type": "execute_result"
    }
   ],
   "source": [
    "cholera.groupby('closest')['deaths'].sum()"
   ]
  },
  {
   "cell_type": "markdown",
   "metadata": {},
   "source": [
    "* If the cholera deaths were totally random, then there is no way we could have 340 deaths closest to pump 0 and so few deaths close to other pumps.\n",
    "* So to make the game more interesting statistically, we will assume that the populations of each area are very different, with many more people living in the area closest to pump zero. Thus, we do expect more deaths there. \n",
    "* So let's make a computer simulation.\n",
    "* We will use only the areas closes to pumps 0, 1, 4 and 5, which have the most cases of cholera, and simulate each death randomly, proportionally to the population of each area. \n",
    "* This is implemented in the function below."
   ]
  },
  {
   "cell_type": "code",
   "execution_count": 186,
   "metadata": {},
   "outputs": [],
   "source": [
    "def simulate(n):\n",
    "    return pd.DataFrame({'closest': np.random.choice([0,1,4,5],size=n,p=[0.65,0.15,0.10,0.10])})"
   ]
  },
  {
   "cell_type": "markdown",
   "metadata": {},
   "source": [
    "* The function numpy.random.choice() is used to select a number out of a list of 0,1,4 and 5, n times, with probabilities proportional to the populations in these areas. So 65% of the people are in area 0, 15% in area 1, and 10% percent each in areas 4 and 5.\n",
    "* We use the total number of deaths (489) as the population of people leaving close to these four pumps."
   ]
  },
  {
   "cell_type": "code",
   "execution_count": 187,
   "metadata": {},
   "outputs": [
    {
     "data": {
      "text/plain": [
       "0    323\n",
       "1     81\n",
       "4     46\n",
       "5     39\n",
       "Name: closest, dtype: int64"
      ]
     },
     "execution_count": 187,
     "metadata": {},
     "output_type": "execute_result"
    }
   ],
   "source": [
    "simulate(489)['closest'].value_counts()"
   ]
  },
  {
   "cell_type": "markdown",
   "metadata": {},
   "source": [
    "* We obtain something relatively close to what we actually observed in the true data. \n",
    "* What we need now is the sampling distribution of the number of deaths near pump #0. \n",
    "* We will extract the count for area #0, repeat the operation 10,000 times, and enclose the result in a DataFrame as shown below: "
   ]
  },
  {
   "cell_type": "code",
   "execution_count": 188,
   "metadata": {},
   "outputs": [],
   "source": [
    "samplingDF = pd.DataFrame({'counts': [simulate(489)['closest'].value_counts()[0] for i in range(10000)]})"
   ]
  },
  {
   "cell_type": "code",
   "execution_count": 189,
   "metadata": {},
   "outputs": [
    {
     "data": {
      "text/plain": [
       "<matplotlib.axes._subplots.AxesSubplot at 0x12298ec50>"
      ]
     },
     "execution_count": 189,
     "metadata": {},
     "output_type": "execute_result"
    },
    {
     "data": {
      "image/png": "[encoded data removed]",
      "text/plain": [
       "<Figure size 432x288 with 1 Axes>"
      ]
     },
     "metadata": {},
     "output_type": "display_data"
    }
   ],
   "source": [
    "samplingDF['counts'].plot(kind='hist', histtype='step')"
   ]
  },
  {
   "cell_type": "markdown",
   "metadata": {},
   "source": [
    "* Note that we have generated this distribution under the **\"null hypothesis\"** that the pumps have nothing to do with the cholera outbreak, and the deaths occured simply proportionally to the population. \n",
    "* We can now compare this distribution with the observed number of 340 deaths in area zero. \n",
    "* We do this by evaluating the quantile at which we find 340 in this null hypothesis sampling distribution:"
   ]
  },
  {
   "cell_type": "code",
   "execution_count": 190,
   "metadata": {},
   "outputs": [
    {
     "name": "stderr",
     "output_type": "stream",
     "text": [
      "/anaconda3/lib/python3.6/site-packages/scipy/stats/stats.py:1719: FutureWarning: Using a non-tuple sequence for multidimensional indexing is deprecated; use `arr[tuple(seq)]` instead of `arr[seq]`. In the future this will be interpreted as an array index, `arr[np.array(seq)]`, which will result either in an error or a different result.\n",
      "  pct = (np.mean(a_len[idx]) / n) * 100.0\n"
     ]
    },
    {
     "data": {
      "text/plain": [
       "97.99"
      ]
     },
     "execution_count": 190,
     "metadata": {},
     "output_type": "execute_result"
    }
   ],
   "source": [
    "scipy.stats.percentileofscore(samplingDF['counts'],340)"
   ]
  },
  {
   "cell_type": "markdown",
   "metadata": {},
   "source": [
    "* This very high percentile implies that 340 deaths is a very extreme value, which we would not expect from the null scenario.\n",
    "* Its corresponding P-value is computed as:"
   ]
  },
  {
   "cell_type": "code",
   "execution_count": 191,
   "metadata": {},
   "outputs": [
    {
     "name": "stderr",
     "output_type": "stream",
     "text": [
      "/anaconda3/lib/python3.6/site-packages/scipy/stats/stats.py:1719: FutureWarning: Using a non-tuple sequence for multidimensional indexing is deprecated; use `arr[tuple(seq)]` instead of `arr[seq]`. In the future this will be interpreted as an array index, `arr[np.array(seq)]`, which will result either in an error or a different result.\n",
      "  pct = (np.mean(a_len[idx]) / n) * 100.0\n"
     ]
    },
    {
     "data": {
      "text/plain": [
       "2.010000000000005"
      ]
     },
     "execution_count": 191,
     "metadata": {},
     "output_type": "execute_result"
    }
   ],
   "source": [
    "100 - scipy.stats.percentileofscore(samplingDF['counts'],340)"
   ]
  },
  {
   "cell_type": "markdown",
   "metadata": {},
   "source": [
    "* This means that we would expect this Null Hypothesis to be true only 2% of the time. \n",
    "* The smaller the P-value, the more strongly we can reject the null hypothesis. \n",
    "* A P-value of 5% is typically used as the cut-off to reject the null hypothesis, but there are debates on how low this cut-off should be."
   ]
  },
  {
   "cell_type": "markdown",
   "metadata": {},
   "source": [
    "<a id='p-value'> </a>\n",
    "## P-Values and Confidence Intervals\n",
    "* There is in fact a close relationship between hypothesis testing and confidence intervals. \n",
    "* If the null hypothesis corresponds to a range of values for a population parameter that is excluded from the confidence interval, then the null hypothesis must be rejected with a very low P-value. \n",
    "* The **lower the P-value, the higher the confidence level of the interval**.\n",
    "* To exemplify this we go back to our example of the election poll and reformulate it as hypothesis testing."
   ]
  },
  {
   "cell_type": "code",
   "execution_count": 46,
   "metadata": {},
   "outputs": [
    {
     "data": {
      "text/plain": [
       "Saban      0.511\n",
       "Orgeron    0.489\n",
       "Name: vote, dtype: float64"
      ]
     },
     "execution_count": 46,
     "metadata": {},
     "output_type": "execute_result"
    }
   ],
   "source": [
    "poll = pd.read_csv('poll.csv')\n",
    "poll['vote'].value_counts(normalize=True)  #this returns the normalized number of votes (proportions) for LSU and Bama. "
   ]
  },
  {
   "cell_type": "markdown",
   "metadata": {},
   "source": [
    "* Here, the null hypothesis will be that Orgeron wins or ties the election. \n",
    "* So, the true Saban winning percentage will be 0.50 or less. \n",
    "* We need to find out whether a Saban winning percentage of 0.511 is an extreme result if the null hypothesis holds. \n",
    "* So we compute the sampling distribution of the proportion, and get a true Saban fraction of 0.50.\n",
    "* If it's lower than that, the P-value will be even lower. So we can work with 0.50."
   ]
  },
  {
   "cell_type": "code",
   "execution_count": 49,
   "metadata": {},
   "outputs": [
    {
     "data": {
      "text/plain": [
       "<matplotlib.axes._subplots.AxesSubplot at 0x12f5c85f8>"
      ]
     },
     "execution_count": 49,
     "metadata": {},
     "output_type": "execute_result"
    },
    {
     "data": {
      "image/png": "[encoded data removed]",
      "text/plain": [
       "<Figure size 432x288 with 1 Axes>"
      ]
     },
     "metadata": {},
     "output_type": "display_data"
    }
   ],
   "source": [
    "distDF = pd.DataFrame({'Saban': [sample(0.50,1000)['vote'].value_counts(normalize=True)['Saban'] for i in range(10000)]})\n",
    "distDF['Saban'].plot(kind='hist', histtype='step', bins=20)"
   ]
  },
  {
   "cell_type": "code",
   "execution_count": 50,
   "metadata": {},
   "outputs": [
    {
     "name": "stderr",
     "output_type": "stream",
     "text": [
      "/anaconda3/lib/python3.6/site-packages/scipy/stats/stats.py:1719: FutureWarning: Using a non-tuple sequence for multidimensional indexing is deprecated; use `arr[tuple(seq)]` instead of `arr[seq]`. In the future this will be interpreted as an array index, `arr[np.array(seq)]`, which will result either in an error or a different result.\n",
      "  pct = (np.mean(a_len[idx]) / n) * 100.0\n"
     ]
    },
    {
     "data": {
      "text/plain": [
       "24.105000000000004"
      ]
     },
     "execution_count": 50,
     "metadata": {},
     "output_type": "execute_result"
    }
   ],
   "source": [
    "100 - scipy.stats.percentileofscore(distDF['Saban'],0.511)"
   ]
  },
  {
   "cell_type": "markdown",
   "metadata": {},
   "source": [
    "* This P-value is not low enough to reject the null hypothesis that Ed Orgeron wins or ties the election.\n",
    "* Recall that the P-value has to be less than 5% to reject the null hypothesis.\n",
    "* Now we move on to the larger poll"
   ]
  },
  {
   "cell_type": "code",
   "execution_count": 51,
   "metadata": {},
   "outputs": [],
   "source": [
    "largepoll = pd.read_csv('poll-larger.csv')"
   ]
  },
  {
   "cell_type": "code",
   "execution_count": 52,
   "metadata": {},
   "outputs": [
    {
     "data": {
      "text/plain": [
       "Orgeron    0.5181\n",
       "Saban      0.4819\n",
       "Name: vote, dtype: float64"
      ]
     },
     "execution_count": 52,
     "metadata": {},
     "output_type": "execute_result"
    }
   ],
   "source": [
    "largepoll['vote'].value_counts(normalize=True)"
   ]
  },
  {
   "cell_type": "markdown",
   "metadata": {},
   "source": [
    "* Here, it makes sense to set the null hypothesis to Nick Saban winning or tying since Ed Orgeron seems to have the majority of votes. \n",
    "* A **nice feature of binary problems, such as this, is that the null hypothesis and its alternative are complementary**.\n",
    "* We compute a sampling distribution at the fraction of 0.50, this time for Orgeron.\n",
    "* This takes longer, so we compute only 1000 repetitions."
   ]
  },
  {
   "cell_type": "code",
   "execution_count": 197,
   "metadata": {},
   "outputs": [],
   "source": [
    "dist = pd.DataFrame({'Orgeron': [sample(0.50,10000)['vote'].value_counts(normalize=True)['Orgeron'] for i in range(1000)]})"
   ]
  },
  {
   "cell_type": "code",
   "execution_count": 198,
   "metadata": {},
   "outputs": [
    {
     "data": {
      "text/plain": [
       "<matplotlib.lines.Line2D at 0x127b3d2b0>"
      ]
     },
     "execution_count": 198,
     "metadata": {},
     "output_type": "execute_result"
    },
    {
     "data": {
      "image/png": "[encoded data removed]",
      "text/plain": [
       "<Figure size 432x288 with 1 Axes>"
      ]
     },
     "metadata": {},
     "output_type": "display_data"
    }
   ],
   "source": [
    "dist['Orgeron'].plot(kind='hist',histtype='step',bins=20)\n",
    "pp.axvline(0.5181,c='C1')"
   ]
  },
  {
   "cell_type": "markdown",
   "metadata": {},
   "source": [
    "* Here, the value is so extreme that it is not even included in our finite sampling distribution. \n",
    "* We conclude that the P-value for rejecting the null hypothesis that Saban wins or ties is one over 1000 or less, which qualifies as very significant.\n",
    "* So, we reject the null Hypothesis, and conclude that Ed Orgeron should win the election based on the larger poll."
   ]
  }
 ],
 "metadata": {
  "kernelspec": {
   "display_name": "Python 3",
   "language": "python",
   "name": "python3"
  },
  "language_info": {
   "codemirror_mode": {
    "name": "ipython",
    "version": 3
   },
   "file_extension": ".py",
   "mimetype": "text/x-python",
   "name": "python",
   "nbconvert_exporter": "python",
   "pygments_lexer": "ipython3",
   "version": "3.6.8"
  },
  "toc": {
   "base_numbering": 1,
   "nav_menu": {},
   "number_sections": true,
   "sideBar": true,
   "skip_h1_title": false,
   "title_cell": "Table of Contents",
   "title_sidebar": "Contents",
   "toc_cell": false,
   "toc_position": {},
   "toc_section_display": true,
   "toc_window_display": false
  }
 },
 "nbformat": 4,
 "nbformat_minor": 2
}
