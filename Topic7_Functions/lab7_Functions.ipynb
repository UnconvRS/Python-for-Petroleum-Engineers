{
 "cells": [
  {
   "cell_type": "markdown",
   "metadata": {
    "colab_type": "text",
    "id": "u1YDPNtbdHDj"
   },
   "source": [
    "\n",
    " #  Functions\n",
    "\n",
    "## PETE 2061 Lab 7\n",
    "\n",
    "<a id='top'></a>"
   ]
  },
  {
   "cell_type": "markdown",
   "metadata": {
    "colab_type": "text",
    "id": "VB--CYOSdHDm"
   },
   "source": [
    "<a id='overview'></a>\n",
    "# Topics Covered\n",
    "<font color=blue>\n",
    " * [Functions](#functions) \n",
    " * [Arbitrary Arguments](#arguments)\n",
    " * [Recursion](#recursion)   \n",
    "</font>\n",
    "<br>"
   ]
  },
  {
   "cell_type": "markdown",
   "metadata": {
    "colab_type": "text",
    "id": "8sIJ4A57dHFk"
   },
   "source": [
    "<a id='functions'> </a>\n",
    "## Functions\n",
    "The syntax for creating functions in Python is as follows: <br>\n",
    "def functionName(argument1, arg2, ...): \n",
    "> body of code  \n",
    "    "
   ]
  },
  {
   "cell_type": "code",
   "execution_count": 1,
   "metadata": {
    "colab": {},
    "colab_type": "code",
    "id": "B5Hf5RZLdHFk"
   },
   "outputs": [
    {
     "name": "stdout",
     "output_type": "stream",
     "text": [
      " 1 + 3 = 4\n"
     ]
    }
   ],
   "source": [
    "#This is a function that adds two numbers x and y, and returns the sum\n",
    "def myAdd(x, y):\n",
    "    return x+y\n",
    "\n",
    "a = 1\n",
    "b = 3\n",
    "sumOfNumbers = myAdd(a, b)  #Whatever is returned by the function myAdd() is stored in sumofNumbers\n",
    "print(f\" {a} + {b} = {sumOfNumbers}\")"
   ]
  },
  {
   "cell_type": "markdown",
   "metadata": {},
   "source": [
    "**We can return multiple values from a function using tuples as shown below**"
   ]
  },
  {
   "cell_type": "code",
   "execution_count": 2,
   "metadata": {
    "colab": {},
    "colab_type": "code",
    "id": "5lyjqDO4dHFm"
   },
   "outputs": [
    {
     "name": "stdout",
     "output_type": "stream",
     "text": [
      "squre = 9 cube = 27\n"
     ]
    }
   ],
   "source": [
    "#return multiple values\n",
    "def power(input):\n",
    "    return input**2, input**3\n",
    "\n",
    "square, cube = power(3) #The two variables returned by the power() function are stored in variables-- square and cube.\n",
    "print(\"square =\",square, \"cube =\",cube)"
   ]
  },
  {
   "cell_type": "code",
   "execution_count": 4,
   "metadata": {},
   "outputs": [
    {
     "name": "stdout",
     "output_type": "stream",
     "text": [
      "I am from USA\n",
      "I am from Canada\n",
      "I am from India\n"
     ]
    }
   ],
   "source": [
    "# you can also have functions that don't return any value\n",
    "def my_function(country = \"USA\"):\n",
    "    print(\"I am from \" + country)\n",
    "\n",
    "my_function()  # This will use the default argument specified, which is \"Norway\"\n",
    "my_function(\"Canada\") #This will set country to Sweden, because you have specified Sweden as the argument to the function\n",
    "my_function(\"India\")"
   ]
  },
  {
   "cell_type": "markdown",
   "metadata": {},
   "source": [
    "**Note that the function above does not return anything. So, we don't store the results from this function into any variable like we did with the previous functions**"
   ]
  },
  {
   "cell_type": "markdown",
   "metadata": {},
   "source": [
    "** You can send any data types of parameter to a function (string, number, list, dictionary etc.), and it will be treated as the same data type inside the function. **"
   ]
  },
  {
   "cell_type": "code",
   "execution_count": 4,
   "metadata": {},
   "outputs": [
    {
     "name": "stdout",
     "output_type": "stream",
     "text": [
      "apple\n",
      "banana\n",
      "cherry\n"
     ]
    }
   ],
   "source": [
    "def myFunction(food):\n",
    "    for y in food:\n",
    "        print(y)\n",
    "\n",
    "fruits = [\"apple\", \"banana\", \"cherry\"]\n",
    "\n",
    "myFunction(fruits)  # Does this function return any value/variable?"
   ]
  },
  {
   "cell_type": "markdown",
   "metadata": {},
   "source": [
    "<a id='arguments'> </a>\n",
    "## Arbitrary Arguments\n",
    "If you do not know how many arguments that will be passed into your function, add a \"*\" before the parameter name in the function definition. <br>\n",
    "This way the function will receive a tuple of arguments, and can access the items accordingly:"
   ]
  },
  {
   "cell_type": "code",
   "execution_count": 5,
   "metadata": {},
   "outputs": [
    {
     "name": "stdout",
     "output_type": "stream",
     "text": [
      "The first item in args is Peter\n",
      "The first item in args is James\n",
      "The first item in args is LeBron\n",
      "The first item in args is 3\n"
     ]
    }
   ],
   "source": [
    "def myFunction(*args):\n",
    "    '''\n",
    "    numArgs = len(args)\n",
    "    if numArgs == 2:\n",
    "        #implement exponential model here\n",
    "        qexp = ...\n",
    "    else:\n",
    "        #implement hyperbolic model here\n",
    "        qHyp = ...\n",
    "      '''  \n",
    "    print(f\"The first item in args is {args[0]}\")\n",
    "\n",
    "myFunction(\"Peter\", \"James\", \"LeBron\", \"Kobe\") #all four arguments are stored as a tuple named \"kids\" in the function\n",
    "myFunction(\"James\", \"LeBron\", \"Kobe\")\n",
    "myFunction(\"LeBron\", \"Kobe\")\n",
    "\n",
    "myFunction(3, 4)"
   ]
  },
  {
   "cell_type": "markdown",
   "metadata": {},
   "source": [
    "** Can you think of how you can write one generic function to forecast production using either the Exponential or Hyperbolic decline, and determine which of these models to use based on the number of input arguments? **"
   ]
  },
  {
   "cell_type": "markdown",
   "metadata": {},
   "source": [
    "<a id='recursion'> </a>\n",
    "## Recursion\n",
    "* Recursion simply means calling a function within itself\n",
    "* It is a common mathematical and programming concept\n",
    "* A simple and common illustration of recursion is the generation of the \"Fibonacci Sequence\"\n",
    "* The Fibonacci sequence is a sequence of numbers that starts with 0 and 1. All subsequent numbers are a sum of the previous two numbers.\n",
    "* In virtually all cases, you can always implement a recursive algorithm using a loop, and this is usually faster than the recursive algorithm"
   ]
  },
  {
   "cell_type": "code",
   "execution_count": 6,
   "metadata": {},
   "outputs": [
    {
     "name": "stdout",
     "output_type": "stream",
     "text": [
      "How many terms? 7\n",
      "Fibonacci sequence:\n",
      "0\n",
      "1\n",
      "1\n",
      "2\n",
      "3\n",
      "5\n",
      "8\n"
     ]
    }
   ],
   "source": [
    "#recursive Fibonacci\n",
    "def fibo(n):  \n",
    "    if n <= 1:  \n",
    "        return n  \n",
    "    else:  \n",
    "        return(fibo(n-1) + fibo(n-2))  \n",
    "    \n",
    "# take input from the user  \n",
    "nterms = int(input(\"How many terms? \"))  #notice that we convert the string input to integer  \n",
    "print(\"Fibonacci sequence:\")  \n",
    "for i in range(nterms):  \n",
    "    print(fibo(i))  "
   ]
  },
  {
   "cell_type": "code",
   "execution_count": 7,
   "metadata": {},
   "outputs": [
    {
     "name": "stdout",
     "output_type": "stream",
     "text": [
      "How many terms? 7\n",
      "Fibonacci sequence:\n",
      "0\n",
      "1\n",
      "1\n",
      "2\n",
      "3\n",
      "5\n",
      "8\n"
     ]
    }
   ],
   "source": [
    "#Generating Fibonacci using a loop\n",
    "def fibonacci(n):\n",
    "    a = 0\n",
    "    b = 1\n",
    "    for i in range(n):\n",
    "        temp = a\n",
    "        a = b\n",
    "        b = temp + b\n",
    "    return a\n",
    "\n",
    "# take input from the user  \n",
    "nterms = int(input(\"How many terms? \"))    \n",
    "print(\"Fibonacci sequence:\")  \n",
    "for i in range(nterms):  \n",
    "    print(fibonacci(i)) "
   ]
  }
 ],
 "metadata": {
  "colab": {
   "collapsed_sections": [
    "sYQs3O-6dHFb",
    "8sIJ4A57dHFk",
    "_73RPOcBdHFn",
    "h9s2tfPcdHFo",
    "zt4YHVYPdHGR"
   ],
   "include_colab_link": true,
   "name": "Copy of intro-python-colab.ipynb",
   "provenance": [],
   "version": "0.3.2"
  },
  "kernelspec": {
   "display_name": "Python 3",
   "language": "python",
   "name": "python3"
  },
  "language_info": {
   "codemirror_mode": {
    "name": "ipython",
    "version": 3
   },
   "file_extension": ".py",
   "mimetype": "text/x-python",
   "name": "python",
   "nbconvert_exporter": "python",
   "pygments_lexer": "ipython3",
   "version": "3.6.8"
  }
 },
 "nbformat": 4,
 "nbformat_minor": 1
}
